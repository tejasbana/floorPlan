{
  "nbformat": 4,
  "nbformat_minor": 0,
  "metadata": {
    "colab": {
      "name": "CustomHouseGan.ipynb",
      "provenance": [],
      "collapsed_sections": []
    },
    "kernelspec": {
      "display_name": "Python 3",
      "name": "python3"
    },
    "language_info": {
      "name": "python"
    }
  },
  "cells": [
    {
      "cell_type": "code",
      "metadata": {
        "colab": {
          "base_uri": "https://localhost:8080/"
        },
        "id": "UZycrJlDg1dB",
        "outputId": "80cf4916-0e73-482b-8c45-60bd2154d246"
      },
      "source": [
        "!gdown --id 12dG-TqDZz-BLEdlJydVfPSmhdIksjk5y"
      ],
      "execution_count": null,
      "outputs": [
        {
          "output_type": "stream",
          "text": [
            "Downloading...\n",
            "From: https://drive.google.com/uc?id=12dG-TqDZz-BLEdlJydVfPSmhdIksjk5y\n",
            "To: /content/exp_demo_D_500000.pth\n",
            "\r0.00B [00:00, ?B/s]\r2.16MB [00:00, 68.1MB/s]\n"
          ],
          "name": "stdout"
        }
      ]
    },
    {
      "cell_type": "code",
      "metadata": {
        "colab": {
          "base_uri": "https://localhost:8080/"
        },
        "id": "2GTrvaTx6QyT",
        "outputId": "25f04f48-c9fe-4ff3-dcac-ea3edcd42fa9"
      },
      "source": [
        "# Pickle Model \n",
        "!gdown --id 1rRCQPDX0kFPqyJMfc-I-xXa9ly5FlX-L"
      ],
      "execution_count": null,
      "outputs": [
        {
          "output_type": "stream",
          "text": [
            "Downloading...\n",
            "From: https://drive.google.com/uc?id=1rRCQPDX0kFPqyJMfc-I-xXa9ly5FlX-L\n",
            "To: /content/housegan_pickle.sav\n",
            "\r0.00B [00:00, ?B/s]\r2.17MB [00:00, 69.3MB/s]\n"
          ],
          "name": "stdout"
        }
      ]
    },
    {
      "cell_type": "code",
      "metadata": {
        "colab": {
          "base_uri": "https://localhost:8080/"
        },
        "id": "Hs_LF9XLg8iU",
        "outputId": "03817fff-2659-4af0-89ab-494795b4508e"
      },
      "source": [
        "# HouseGAN\n",
        "!git clone https://github.com/ennauata/housegan.git\n",
        "# change directory\n",
        "%cd housegan/\n",
        "# graphviz is installed already, but need lib too\n",
        "!apt install libgraphviz-dev\n",
        "!pip install pygraphviz\n",
        "# remove edges from nx.draw in variation_bbs_with_target_graph_segments_suppl draw graph line 72\n",
        "!pip install webcolors\n",
        "!pip install svgwrite\n",
        "# Rename weights to exp_with_graph_global_new_D_200000.pth\n",
        "!mv ../exp_demo_D_500000.pth ../exp_with_graph_global_new_D_200000.pth\n",
        "!mkdir checkpoints\n",
        "!mv ../exp_with_graph_global_new_D_200000.pth ./checkpoints\n",
        "# !mv ../train_data.npy ./checkpoints\n",
        "!mv ../housegan_pickle.sav ./housegan_pickle.sav\n"
      ],
      "execution_count": null,
      "outputs": [
        {
          "output_type": "stream",
          "text": [
            "Cloning into 'housegan'...\n",
            "remote: Enumerating objects: 145, done.\u001b[K\n",
            "remote: Counting objects: 100% (24/24), done.\u001b[K\n",
            "remote: Compressing objects: 100% (24/24), done.\u001b[K\n",
            "remote: Total 145 (delta 12), reused 0 (delta 0), pack-reused 121\u001b[K\n",
            "Receiving objects: 100% (145/145), 160.06 KiB | 5.00 MiB/s, done.\n",
            "Resolving deltas: 100% (80/80), done.\n",
            "/content/housegan\n",
            "Reading package lists... Done\n",
            "Building dependency tree       \n",
            "Reading state information... Done\n",
            "The following additional packages will be installed:\n",
            "  libgail-common libgail18 libgtk2.0-0 libgtk2.0-bin libgtk2.0-common\n",
            "  libgvc6-plugins-gtk libxdot4\n",
            "Suggested packages:\n",
            "  gvfs\n",
            "The following NEW packages will be installed:\n",
            "  libgail-common libgail18 libgraphviz-dev libgtk2.0-0 libgtk2.0-bin\n",
            "  libgtk2.0-common libgvc6-plugins-gtk libxdot4\n",
            "0 upgraded, 8 newly installed, 0 to remove and 40 not upgraded.\n",
            "Need to get 2,120 kB of archives.\n",
            "After this operation, 7,128 kB of additional disk space will be used.\n",
            "Get:1 http://archive.ubuntu.com/ubuntu bionic/main amd64 libgtk2.0-common all 2.24.32-1ubuntu1 [125 kB]\n",
            "Get:2 http://archive.ubuntu.com/ubuntu bionic/main amd64 libgtk2.0-0 amd64 2.24.32-1ubuntu1 [1,769 kB]\n",
            "Get:3 http://archive.ubuntu.com/ubuntu bionic/main amd64 libgail18 amd64 2.24.32-1ubuntu1 [14.2 kB]\n",
            "Get:4 http://archive.ubuntu.com/ubuntu bionic/main amd64 libgail-common amd64 2.24.32-1ubuntu1 [112 kB]\n",
            "Get:5 http://archive.ubuntu.com/ubuntu bionic/universe amd64 libxdot4 amd64 2.40.1-2 [15.7 kB]\n",
            "Get:6 http://archive.ubuntu.com/ubuntu bionic/universe amd64 libgvc6-plugins-gtk amd64 2.40.1-2 [18.2 kB]\n",
            "Get:7 http://archive.ubuntu.com/ubuntu bionic/universe amd64 libgraphviz-dev amd64 2.40.1-2 [57.3 kB]\n",
            "Get:8 http://archive.ubuntu.com/ubuntu bionic/main amd64 libgtk2.0-bin amd64 2.24.32-1ubuntu1 [7,536 B]\n",
            "Fetched 2,120 kB in 1s (2,202 kB/s)\n",
            "Selecting previously unselected package libgtk2.0-common.\n",
            "(Reading database ... 160837 files and directories currently installed.)\n",
            "Preparing to unpack .../0-libgtk2.0-common_2.24.32-1ubuntu1_all.deb ...\n",
            "Unpacking libgtk2.0-common (2.24.32-1ubuntu1) ...\n",
            "Selecting previously unselected package libgtk2.0-0:amd64.\n",
            "Preparing to unpack .../1-libgtk2.0-0_2.24.32-1ubuntu1_amd64.deb ...\n",
            "Unpacking libgtk2.0-0:amd64 (2.24.32-1ubuntu1) ...\n",
            "Selecting previously unselected package libgail18:amd64.\n",
            "Preparing to unpack .../2-libgail18_2.24.32-1ubuntu1_amd64.deb ...\n",
            "Unpacking libgail18:amd64 (2.24.32-1ubuntu1) ...\n",
            "Selecting previously unselected package libgail-common:amd64.\n",
            "Preparing to unpack .../3-libgail-common_2.24.32-1ubuntu1_amd64.deb ...\n",
            "Unpacking libgail-common:amd64 (2.24.32-1ubuntu1) ...\n",
            "Selecting previously unselected package libxdot4.\n",
            "Preparing to unpack .../4-libxdot4_2.40.1-2_amd64.deb ...\n",
            "Unpacking libxdot4 (2.40.1-2) ...\n",
            "Selecting previously unselected package libgvc6-plugins-gtk.\n",
            "Preparing to unpack .../5-libgvc6-plugins-gtk_2.40.1-2_amd64.deb ...\n",
            "Unpacking libgvc6-plugins-gtk (2.40.1-2) ...\n",
            "Selecting previously unselected package libgraphviz-dev.\n",
            "Preparing to unpack .../6-libgraphviz-dev_2.40.1-2_amd64.deb ...\n",
            "Unpacking libgraphviz-dev (2.40.1-2) ...\n",
            "Selecting previously unselected package libgtk2.0-bin.\n",
            "Preparing to unpack .../7-libgtk2.0-bin_2.24.32-1ubuntu1_amd64.deb ...\n",
            "Unpacking libgtk2.0-bin (2.24.32-1ubuntu1) ...\n",
            "Setting up libgtk2.0-common (2.24.32-1ubuntu1) ...\n",
            "Setting up libxdot4 (2.40.1-2) ...\n",
            "Setting up libgtk2.0-0:amd64 (2.24.32-1ubuntu1) ...\n",
            "Setting up libgail18:amd64 (2.24.32-1ubuntu1) ...\n",
            "Setting up libgail-common:amd64 (2.24.32-1ubuntu1) ...\n",
            "Setting up libgvc6-plugins-gtk (2.40.1-2) ...\n",
            "Setting up libgraphviz-dev (2.40.1-2) ...\n",
            "Setting up libgtk2.0-bin (2.24.32-1ubuntu1) ...\n",
            "Processing triggers for man-db (2.8.3-2ubuntu0.1) ...\n",
            "Processing triggers for libc-bin (2.27-3ubuntu1.2) ...\n",
            "/sbin/ldconfig.real: /usr/local/lib/python3.7/dist-packages/ideep4py/lib/libmkldnn.so.0 is not a symbolic link\n",
            "\n",
            "Collecting pygraphviz\n",
            "  Downloading pygraphviz-1.7.zip (118 kB)\n",
            "\u001b[K     |████████████████████████████████| 118 kB 5.1 MB/s \n",
            "\u001b[?25hBuilding wheels for collected packages: pygraphviz\n",
            "  Building wheel for pygraphviz (setup.py) ... \u001b[?25l\u001b[?25hdone\n",
            "  Created wheel for pygraphviz: filename=pygraphviz-1.7-cp37-cp37m-linux_x86_64.whl size=165752 sha256=625a66825ac615841056ab3406e705244e9e3570d52315b5c5f7a9823671936b\n",
            "  Stored in directory: /root/.cache/pip/wheels/8c/bc/0c/ac35392b72556e75107ff610cb31b313e8471918a6d280e34c\n",
            "Successfully built pygraphviz\n",
            "Installing collected packages: pygraphviz\n",
            "Successfully installed pygraphviz-1.7\n",
            "Collecting webcolors\n",
            "  Downloading webcolors-1.11.1-py3-none-any.whl (9.9 kB)\n",
            "Installing collected packages: webcolors\n",
            "Successfully installed webcolors-1.11.1\n",
            "Collecting svgwrite\n",
            "  Downloading svgwrite-1.4.1-py3-none-any.whl (66 kB)\n",
            "\u001b[K     |████████████████████████████████| 66 kB 2.6 MB/s \n",
            "\u001b[?25hInstalling collected packages: svgwrite\n",
            "Successfully installed svgwrite-1.4.1\n"
          ],
          "name": "stdout"
        }
      ]
    },
    {
      "cell_type": "code",
      "metadata": {
        "id": "Ml-MpX1aixlU"
      },
      "source": [
        "import argparse\n",
        "import os\n",
        "import numpy as np\n",
        "import math\n",
        "import sys\n",
        "import random\n",
        "import pickle\n",
        "\n",
        "import torchvision.transforms as transforms\n",
        "from torchvision.utils import save_image\n",
        "\n",
        "from floorplan_dataset_maps import FloorplanGraphDataset, floorplan_collate_fn\n",
        "from torch.utils.data import DataLoader\n",
        "from torchvision import datasets\n",
        "from torch.autograd import Variable\n",
        "\n",
        "import torch.nn as nn\n",
        "import torch.nn.functional as F\n",
        "import torch.autograd as autograd\n",
        "import torch\n",
        "from PIL import Image, ImageDraw\n",
        "from reconstruct import reconstructFloorplan\n",
        "import svgwrite\n",
        "from utils import bb_to_img, bb_to_vec, bb_to_seg, mask_to_bb, remove_junctions, ID_COLOR, bb_to_im_fid\n",
        "from models import Generator\n",
        "from collections import defaultdict\n",
        "import matplotlib.pyplot as plt\n",
        "import networkx as nx\n",
        "import cv2\n",
        "import webcolors"
      ],
      "execution_count": null,
      "outputs": []
    },
    {
      "cell_type": "code",
      "metadata": {
        "id": "Bxg3J2AGk4UZ"
      },
      "source": [
        "def one_hot_encoding(nodes):\n",
        "    length = 10\n",
        "    ans = []\n",
        "    for k in nodes:\n",
        "        temp = [0 if i != ulta[k] else 1 for i in range(1, length+1)]\n",
        "        ans.append(temp)\n",
        "    return torch.Tensor(ans)\n",
        "def process_edges(nodes, edges):\n",
        "    prep_edgs = []\n",
        "    for i in range(len(nodes)):\n",
        "        for j in range(len(nodes)):\n",
        "            if j > i:\n",
        "                if [i, j] in edges or [j, i] in edges:\n",
        "                    prep_edgs.append([i, 1, j])\n",
        "                else:\n",
        "                    prep_edgs.append([i, -1, j])\n",
        "    return torch.tensor(prep_edgs, dtype=torch.int32)\n",
        "\n",
        "\n",
        "# OLD\n",
        "conversion = {1: 'living', 2: 'kitchen', 3: 'bedroom', \n",
        "              4: 'bathroom', 5:'closet', 6:'balcony', 7: 'corridor', \n",
        "              8: 'dining', 9: 'laundry', 10: 'unkown'}\n",
        "\n",
        "# NEW\n",
        "conversion = {1: 'living', 2: 'kitchen', 3: 'bedroom', \n",
        "              4: 'bathroom', 5:'unkown', 6:'closet', 7: 'balcony', \n",
        "              8: 'corridor', 9: 'dining', 10: 'laundry'}\n",
        "ulta = {conversion[i]:i for i in conversion.keys()}\n",
        "\n",
        "\n",
        "\n",
        "nodes = ['living',\n",
        "         'bedroom',\n",
        "         'bedroom',\n",
        "         'bathroom',\n",
        "         'bathroom',\n",
        "         'balcony',\n",
        "         'unkown',\n",
        "         'dining'\n",
        "]\n",
        "edges = [\n",
        "         [0],\n",
        "         [0, 1],\n",
        "         [0, 2],\n",
        "         [0, 6],\n",
        "         [0, 7],\n",
        "         [1],\n",
        "         [1, 0],\n",
        "         [1, 3],\n",
        "         [1, 5],\n",
        "         [1,6],\n",
        "         [2],\n",
        "         [2, 0],\n",
        "         [2, 4],\n",
        "         [3],\n",
        "         [3, 1],\n",
        "         [4],\n",
        "         [4, 2],\n",
        "         [5],\n",
        "         [5, 1],\n",
        "         [6],\n",
        "         [6, 0],\n",
        "         [7],\n",
        "         [7, 0],\n",
        "          [7]\n",
        "        #  [2, 3],\n",
        "        #  [3, 2],\n",
        "        #  [3, 1],\n",
        "]\n",
        "n, e = one_hot_encoding(nodes), process_edges(nodes, edges)\n",
        "\n",
        "def custom_input(n, e):\n",
        "    return n, e\n",
        "\n",
        "\n",
        "def floorplan_collate_fn(nds,eds):\n",
        "\tall_rooms_mks, all_nodes, all_edges = [], [], []\n",
        "\tall_node_to_sample, all_edge_to_sample = [], []\n",
        "\tnode_offset = 0\n",
        "\tfor i, (nodes, edges) in enumerate(zip(nds,eds)):\n",
        "\t\tO, T = nodes.size(0), edges.size(0)\n",
        "\t\t# all_rooms_mks.append(rooms_mks)\n",
        "\t\tall_nodes.append(nodes)\n",
        "\t\tedges = edges.clone()\n",
        "\t\tif edges.shape[0] > 0:\n",
        "\t\t\t# edges[:, 0] += node_offset\n",
        "\t\t\t# edges[:, 2] += node_offset\n",
        "\t\t\tall_edges.append(edges)\n",
        "\t\tall_node_to_sample.append(torch.LongTensor(O).fill_(i))\n",
        "\t\tall_edge_to_sample.append(torch.LongTensor(T).fill_(i))\n",
        "\t\tnode_offset += O\n",
        "\t# all_rooms_mks = torch.cat(all_rooms_mks, 0)\n",
        "\tall_nodes = torch.cat(all_nodes)\n",
        "\tif len(all_edges) > 0:\n",
        "\t\tall_edges = torch.cat(all_edges)\n",
        "\telse:\n",
        "\t\tall_edges = torch.tensor([])       \n",
        "\tall_node_to_sample = torch.cat(all_node_to_sample)\n",
        "\tall_edge_to_sample = torch.cat(all_edge_to_sample)\n",
        "\treturn all_nodes, all_edges, all_node_to_sample, all_edge_to_sample\n",
        "\n",
        "\n",
        "def pad_im(cr_im, final_size=256, bkg_color='white'):    \n",
        "    new_size = int(np.max([np.max(list(cr_im.size)), final_size]))\n",
        "    padded_im = Image.new('RGB', (new_size, new_size), 'white')\n",
        "    padded_im.paste(cr_im, ((new_size-cr_im.size[0])//2, (new_size-cr_im.size[1])//2))\n",
        "    padded_im = padded_im.resize((final_size, final_size), Image.ANTIALIAS)\n",
        "    return padded_im\n",
        "\n",
        "def draw_graph(g_true):\n",
        "    # build true graph \n",
        "    G_true = nx.Graph()\n",
        "    colors_H = []\n",
        "    for k, label in enumerate(g_true[0]):\n",
        "        _type = label+1 \n",
        "        if _type >= 0:\n",
        "            G_true.add_nodes_from([(k, {'label':_type})])\n",
        "            colors_H.append(ID_COLOR[_type])\n",
        "    for k, m, l in g_true[1]:\n",
        "        if m > 0:\n",
        "            G_true.add_edges_from([(k, l)], color='b',weight=4)    \n",
        "    plt.figure()\n",
        "    pos = nx.nx_agraph.graphviz_layout(G_true, prog='neato')\n",
        "\n",
        "    edges = G_true.edges()\n",
        "    colors = ['black' for u,v in edges]\n",
        "    weights = [4 for u,v in edges]\n",
        "\n",
        "    nx.draw(G_true, pos, node_size=1000, node_color=colors_H, font_size=0, font_weight='bold', edge_color=colors, width=weights)\n",
        "    plt.tight_layout()\n",
        "    plt.savefig('./dump/_true_graph.jpg', format=\"jpg\")\n",
        "    rgb_im = Image.open('./dump/_true_graph.jpg')\n",
        "    rgb_arr = pad_im(rgb_im).convert('RGBA')\n",
        "    return rgb_arr\n",
        "\n",
        "        \n",
        "\n",
        "def draw_masks(masks, real_nodes):\n",
        "\n",
        "#     transp = Image.new('RGBA', img.size, (0,0,0,0))  # Temp drawing image.\n",
        "#     draw = ImageDraw.Draw(transp, \"RGBA\")\n",
        "#     draw.ellipse(xy, **kwargs)\n",
        "#     # Alpha composite two images together and replace first with result.\n",
        "#     img.paste(Image.alpha_composite(img, transp))\n",
        "    \n",
        "    bg_img = Image.new(\"RGBA\", (256, 256), (255, 255, 255, 0))  # Semitransparent background.\n",
        "    for m, nd in zip(masks, real_nodes):\n",
        "        \n",
        "        # draw region\n",
        "        reg = Image.new('RGBA', (32, 32), (0,0,0,0))\n",
        "        dr_reg = ImageDraw.Draw(reg)\n",
        "        m[m>0] = 255\n",
        "        m[m<0] = 0\n",
        "        m = m.detach().cpu().numpy()\n",
        "        m = Image.fromarray(m)\n",
        "        color = ID_COLOR[nd+1]\n",
        "        r, g, b = webcolors.name_to_rgb(color)\n",
        "        dr_reg.bitmap((0, 0), m.convert('L'), fill=(r, g, b, 32))\n",
        "        reg = reg.resize((256, 256))\n",
        "        \n",
        "        bg_img.paste(Image.alpha_composite(bg_img, reg))\n",
        "\n",
        "  \n",
        "    for m, nd in zip(masks, real_nodes):\n",
        "        cnt = Image.new('RGBA', (256, 256), (0,0,0,0))\n",
        "        dr_cnt = ImageDraw.Draw(cnt)\n",
        "        \n",
        "        mask = np.zeros((256,256,3)).astype('uint8')\n",
        "        m[m>0] = 255\n",
        "        m[m<0] = 0\n",
        "        m = m.detach().cpu().numpy()[:, :, np.newaxis].astype('uint8')\n",
        "        m = cv2.resize(m, (256, 256), interpolation = cv2.INTER_AREA) \n",
        "        ret,thresh = cv2.threshold(m,127,255,0)\n",
        "        contours, hierarchy = cv2.findContours(thresh,cv2.RETR_TREE,cv2.CHAIN_APPROX_SIMPLE)\n",
        "        if len(contours) > 0:  \n",
        "            contours = [c for c in contours]\n",
        "        color = ID_COLOR[nd+1]\n",
        "        r, g, b = webcolors.name_to_rgb(color)\n",
        "        cv2.drawContours(mask, contours, -1, (255, 255, 255), 2)\n",
        "        \n",
        "        mask = Image.fromarray(mask)\n",
        "        dr_cnt.bitmap((0, 0), mask.convert('L'), fill=(r, g, b, 256))\n",
        "        \n",
        "        bg_img.paste(Image.alpha_composite(bg_img, cnt))\n",
        "    \n",
        "#     im2 = np.zeros((256,256,3)).astype('uint8') + 255\n",
        "#     for m, nd in zip(masks, real_nodes):\n",
        "#         m[m>0] = 255\n",
        "#         m[m<0] = 0\n",
        "#         m = m.detach().cpu().numpy()[:, :, np.newaxis].astype('uint8')\n",
        "#         m = cv2.resize(m, (256, 256), interpolation = cv2.INTER_AREA) \n",
        "#         ret,thresh = cv2.threshold(m,127,255,0)\n",
        "#         contours, hierarchy = cv2.findContours(thresh,cv2.RETR_TREE,cv2.CHAIN_APPROX_SIMPLE)\n",
        "#         if len(contours) > 0:  \n",
        "#             contours = [c for c in contours]\n",
        "#         color = ID_COLOR[nd+1]\n",
        "#         r, g, b = webcolors.name_to_rgb(color)\n",
        "\n",
        "#         cv2.drawContours(im2, contours, -1, (r, g, b), 2)\n",
        "#     im2 = Image.fromarray(im2).convert('RGBA')\n",
        "\n",
        "#     im.paste(im2)\n",
        "#     out.save('./test.png')\n",
        "#     im.save('./test_reg.png')\n",
        "\n",
        "    return bg_img\n",
        "\n",
        "def draw_floorplan(dwg, junctions, juncs_on, lines_on):\n",
        "\n",
        "    # draw edges\n",
        "    for k, l in lines_on:\n",
        "        x1, y1 = np.array(junctions[k])\n",
        "        x2, y2 = np.array(junctions[l])\n",
        "        #fill='rgb({},{},{})'.format(*(np.random.rand(3)*255).astype('int'))\n",
        "        dwg.add(dwg.line((float(x1), float(y1)), (float(x2), float(y2)), stroke='black', stroke_width=4, opacity=1.0))\n",
        "\n",
        "    # draw corners\n",
        "    for j in juncs_on:\n",
        "        x, y = np.array(junctions[j])\n",
        "        dwg.add(dwg.circle(center=(float(x), float(y)), r=3, stroke='red', fill='white', stroke_width=2, opacity=1.0))\n",
        "    return \n"
      ],
      "execution_count": null,
      "outputs": []
    },
    {
      "cell_type": "code",
      "metadata": {
        "colab": {
          "base_uri": "https://localhost:8080/",
          "height": 815
        },
        "id": "A646HP0OlCx7",
        "outputId": "c866f5e6-b083-4b95-a6a8-82f05e972c70"
      },
      "source": [
        "%%time\n",
        "parser = argparse.ArgumentParser()\n",
        "parser.add_argument(\"--n_cpu\", type=int, default=16, help=\"number of cpu threads to use during batch generation\")\n",
        "parser.add_argument(\"--latent_dim\", type=int, default=128, help=\"dimensionality of the latent space\")\n",
        "parser.add_argument(\"--batch_size\", type=int, default=1, help=\"size of the batches\")\n",
        "parser.add_argument(\"--channels\", type=int, default=1, help=\"number of image channels\")\n",
        "parser.add_argument(\"--num_variations\", type=int, default=8, help=\"number of variations\")\n",
        "parser.add_argument(\"--exp_folder\", type=str, default='exp', help=\"destination folder\")\n",
        "\n",
        "opt = parser.parse_args(\"\")\n",
        "print(opt)\n",
        "pickle_path = \"./housegan_pickle.sav\"\n",
        "numb_iters = 200000\n",
        "exp_name = 'exp_with_graph_global_new'\n",
        "target_set = 'D'\n",
        "phase='eval'\n",
        "checkpoint = './checkpoints/{}_{}_{}.pth'.format(exp_name, target_set, numb_iters)\n",
        "os.makedirs(\"./dump/\", exist_ok=True)\n",
        "os.makedirs(\"./output/\", exist_ok=True)\n",
        "\n",
        "def pad_im(cr_im, final_size=256, bkg_color='white'):    \n",
        "    new_size = int(np.max([np.max(list(cr_im.size)), final_size]))\n",
        "    padded_im = Image.new('RGB', (new_size, new_size), 'white')\n",
        "    padded_im.paste(cr_im, ((new_size-cr_im.size[0])//2, (new_size-cr_im.size[1])//2))\n",
        "    padded_im = padded_im.resize((final_size, final_size), Image.ANTIALIAS)\n",
        "    return padded_im\n",
        "\n",
        "def draw_graph(g_true):\n",
        "    # build true graph \n",
        "    G_true = nx.Graph()\n",
        "    colors_H = []\n",
        "    for k, label in enumerate(g_true[0]):\n",
        "        _type = label+1 \n",
        "        if _type >= 0:\n",
        "            G_true.add_nodes_from([(k, {'label':_type})])\n",
        "            colors_H.append(ID_COLOR[_type])\n",
        "    for k, m, l in g_true[1]:\n",
        "        if m > 0:\n",
        "            G_true.add_edges_from([(k, l)], color='b',weight=4)    \n",
        "    plt.figure()\n",
        "    pos = nx.nx_agraph.graphviz_layout(G_true, prog='neato')\n",
        "\n",
        "    edges = G_true.edges()\n",
        "    colors = ['black' for u,v in edges]\n",
        "    weights = [4 for u,v in edges]\n",
        "\n",
        "    nx.draw(G_true, pos, node_size=1000, node_color=colors_H, font_size=0, font_weight='bold', edge_color=colors, width=weights)\n",
        "    plt.tight_layout()\n",
        "    plt.savefig('./dump/_true_graph.jpg', format=\"jpg\")\n",
        "    rgb_im = Image.open('./dump/_true_graph.jpg')\n",
        "    rgb_arr = pad_im(rgb_im).convert('RGBA')\n",
        "    return rgb_arr\n",
        "\n",
        "        \n",
        "import cv2\n",
        "import webcolors\n",
        "def draw_masks(masks, real_nodes):\n",
        "\n",
        "#     transp = Image.new('RGBA', img.size, (0,0,0,0))  # Temp drawing image.\n",
        "#     draw = ImageDraw.Draw(transp, \"RGBA\")\n",
        "#     draw.ellipse(xy, **kwargs)\n",
        "#     # Alpha composite two images together and replace first with result.\n",
        "#     img.paste(Image.alpha_composite(img, transp))\n",
        "    \n",
        "    bg_img = Image.new(\"RGBA\", (256, 256), (255, 255, 255, 0))  # Semitransparent background.\n",
        "    for m, nd in zip(masks, real_nodes):\n",
        "        \n",
        "        # draw region\n",
        "        reg = Image.new('RGBA', (32, 32), (0,0,0,0))\n",
        "        dr_reg = ImageDraw.Draw(reg)\n",
        "        m[m>0] = 255\n",
        "        m[m<0] = 0\n",
        "        m = m.detach().cpu().numpy()\n",
        "        m = Image.fromarray(m)\n",
        "        color = ID_COLOR[nd+1]\n",
        "        r, g, b = webcolors.name_to_rgb(color)\n",
        "        dr_reg.bitmap((0, 0), m.convert('L'), fill=(r, g, b, 32))\n",
        "        reg = reg.resize((256, 256))\n",
        "        \n",
        "        bg_img.paste(Image.alpha_composite(bg_img, reg))\n",
        "\n",
        "  \n",
        "    for m, nd in zip(masks, real_nodes):\n",
        "        cnt = Image.new('RGBA', (256, 256), (0,0,0,0))\n",
        "        dr_cnt = ImageDraw.Draw(cnt)\n",
        "        \n",
        "        mask = np.zeros((256,256,3)).astype('uint8')\n",
        "        m[m>0] = 255\n",
        "        m[m<0] = 0\n",
        "        m = m.detach().cpu().numpy()[:, :, np.newaxis].astype('uint8')\n",
        "        m = cv2.resize(m, (256, 256), interpolation = cv2.INTER_AREA) \n",
        "        ret,thresh = cv2.threshold(m,127,255,0)\n",
        "        contours, hierarchy = cv2.findContours(thresh,cv2.RETR_TREE,cv2.CHAIN_APPROX_SIMPLE)\n",
        "        if len(contours) > 0:  \n",
        "            contours = [c for c in contours]\n",
        "        color = ID_COLOR[nd+1]\n",
        "        r, g, b = webcolors.name_to_rgb(color)\n",
        "        cv2.drawContours(mask, contours, -1, (255, 255, 255), 2)\n",
        "        \n",
        "        mask = Image.fromarray(mask)\n",
        "        dr_cnt.bitmap((0, 0), mask.convert('L'), fill=(r, g, b, 256))\n",
        "        \n",
        "        bg_img.paste(Image.alpha_composite(bg_img, cnt))\n",
        "    \n",
        "#     im2 = np.zeros((256,256,3)).astype('uint8') + 255\n",
        "#     for m, nd in zip(masks, real_nodes):\n",
        "#         m[m>0] = 255\n",
        "#         m[m<0] = 0\n",
        "#         m = m.detach().cpu().numpy()[:, :, np.newaxis].astype('uint8')\n",
        "#         m = cv2.resize(m, (256, 256), interpolation = cv2.INTER_AREA) \n",
        "#         ret,thresh = cv2.threshold(m,127,255,0)\n",
        "#         contours, hierarchy = cv2.findContours(thresh,cv2.RETR_TREE,cv2.CHAIN_APPROX_SIMPLE)\n",
        "#         if len(contours) > 0:  \n",
        "#             contours = [c for c in contours]\n",
        "#         color = ID_COLOR[nd+1]\n",
        "#         r, g, b = webcolors.name_to_rgb(color)\n",
        "\n",
        "#         cv2.drawContours(im2, contours, -1, (r, g, b), 2)\n",
        "#     im2 = Image.fromarray(im2).convert('RGBA')\n",
        "\n",
        "#     im.paste(im2)\n",
        "#     out.save('./test.png')\n",
        "#     im.save('./test_reg.png')\n",
        "\n",
        "    return bg_img\n",
        "\n",
        "def draw_floorplan(dwg, junctions, juncs_on, lines_on):\n",
        "\n",
        "    # draw edges\n",
        "    for k, l in lines_on:\n",
        "        x1, y1 = np.array(junctions[k])\n",
        "        x2, y2 = np.array(junctions[l])\n",
        "        #fill='rgb({},{},{})'.format(*(np.random.rand(3)*255).astype('int'))\n",
        "        dwg.add(dwg.line((float(x1), float(y1)), (float(x2), float(y2)), stroke='black', stroke_width=4, opacity=1.0))\n",
        "\n",
        "    # draw corners\n",
        "    for j in juncs_on:\n",
        "        x, y = np.array(junctions[j])\n",
        "        dwg.add(dwg.circle(center=(float(x), float(y)), r=3, stroke='red', fill='white', stroke_width=2, opacity=1.0))\n",
        "    return \n",
        "\n",
        "# Create folder\n",
        "os.makedirs(opt.exp_folder, exist_ok=True)\n",
        "\n",
        "# Initialize generator and discriminator\n",
        "generator = Generator()\n",
        "generator.load_state_dict(torch.load(checkpoint, map_location=torch.device('cpu')))\n",
        "\n",
        "# Using pickle model\n",
        "# load the model from disk\n",
        "# generator = pickle.load(open(pickle_path, 'rb'))\n",
        "\n",
        "# Generate Pickle file\n",
        "# save the model to disk\n",
        "import pickle\n",
        "filename = 'housegan_pickle.sav'\n",
        "pickle.dump(generator, open(filename, 'wb'))\n",
        "\n",
        "# Initialize variables\n",
        "cuda = True if torch.cuda.is_available() else False\n",
        "# cuda = False \n",
        "if cuda:\n",
        "    generator.cuda()\n",
        "rooms_path = '/content/housegan/checkpoints/'\n",
        "\n",
        "# Initialize dataset iterator\n",
        "# fp_dataset_test = FloorplanGraphDataset(rooms_path, transforms.Normalize(mean=[0.5], std=[0.5]), target_set=target_set, split=phase)\n",
        "# fp_loader = torch.utils.data.DataLoader(fp_dataset_test, \n",
        "#                                         batch_size=opt.batch_size, \n",
        "#                                         shuffle=False, collate_fn=floorplan_collate_fn)\n",
        "# # Optimizers\n",
        "Tensor = torch.cuda.FloatTensor if cuda else torch.FloatTensor\n",
        "\n",
        "# ------------\n",
        "#  Vectorize\n",
        "# ------------\n",
        "globalIndex = 0\n",
        "final_images = []\n",
        "target_graph = list(range(500))\n",
        "page_count = 0\n",
        "n_rows = 0\n",
        "# for i, batch in enumerate(fp_loader):\n",
        "    # if i not in target_graph:\n",
        "        # continue\n",
        "        \n",
        "    # Unpack batch\n",
        "    # mks, nds, eds, nd_to_sample, ed_to_sample = batch\n",
        "# print(\"real\",nds, eds)\n",
        "nds, eds = custom_input(n, e)\n",
        "# print(\"custom\",nds, eds)\n",
        "\n",
        "#custom\n",
        "# batch = (n,e)\n",
        "# nds, eds, nd_to_sample, ed_to_sample = floorplan_collate_fn(batch)\n",
        "\n",
        "\n",
        "# Configure input\n",
        "# real_mks = Variable(mks.type(Tensor))\n",
        "given_nds = Variable(nds.type(Tensor))\n",
        "# print(\"real_mks:\",real_mks.shape[0])\n",
        "# print(\"given_nds:\",given_nds.shape[0])\n",
        "# break\n",
        "given_eds = eds\n",
        "for k in range(opt.num_variations):\n",
        "#         print('var num {}'.format(k))\n",
        "    # plot images\n",
        "    z = Variable(Tensor(np.random.normal(0, 1, (given_nds.shape[0], opt.latent_dim))))\n",
        "    with torch.no_grad():\n",
        "        gen_mks = generator(z, given_nds, given_eds)\n",
        "        gen_bbs = np.array([np.array(mask_to_bb(mk)) for mk in gen_mks.detach().cpu()])\n",
        "        # real_bbs = np.array([np.array(mask_to_bb(mk)) for mk in real_mks.detach().cpu()])\n",
        "        real_nodes = np.where(given_nds.detach().cpu()==1)[-1]\n",
        "    gen_bbs = gen_bbs[np.newaxis, :, :]/32.0\n",
        "    junctions = np.array(bb_to_vec(gen_bbs))[0, :, :]\n",
        "    regions = np.array(bb_to_seg(gen_bbs))[0, :, :, :].transpose((1, 2, 0))\n",
        "    graph = [real_nodes, None]\n",
        "    \n",
        "    if k == 0:\n",
        "        graph_arr = draw_graph([real_nodes, eds.detach().cpu().numpy()])\n",
        "        final_images.append(graph_arr)\n",
        "        \n",
        "#             # place real \n",
        "#             real_bbs = real_bbs[np.newaxis, :, :]/32.0\n",
        "#             real_im = bb_to_im_fid(real_bbs, real_nodes)\n",
        "#             final_images.append(real_im)\n",
        "        \n",
        "        \n",
        "    # reconstruct\n",
        "    fake_im_seg = draw_masks(gen_mks, real_nodes)\n",
        "    final_images.append(fake_im_seg)\n",
        "    fake_im_bb = bb_to_im_fid(gen_bbs, real_nodes, im_size=256).convert('RGBA')\n",
        "    final_images.append(fake_im_bb)\n",
        "n_rows += 1\n",
        "# if (n_rows+1)%12 == 0: \n",
        "final_images_new = []\n",
        "for im in final_images:\n",
        "    print(np.array(im).shape)\n",
        "    final_images_new.append(torch.tensor(np.array(im).transpose((2, 0, 1)))/255.0)\n",
        "\n",
        "# print('final: ', final_images_new[0].shape)\n",
        "final_images = final_images_new\n",
        "final_images = torch.stack(final_images)\n",
        "# print(final_images)\n",
        "save_image(final_images, \"./output/results_page_{}_{}.png\".format(target_set, page_count), nrow=2*opt.num_variations+1, padding=2, range=(0, 1), pad_value=0.5, normalize=False)\n",
        "page_count += 1\n",
        "n_rows = 0\n",
        "final_images = []\n",
        "\n",
        "# break\n"
      ],
      "execution_count": null,
      "outputs": [
        {
          "output_type": "stream",
          "text": [
            "Namespace(batch_size=1, channels=1, exp_folder='exp', latent_dim=128, n_cpu=16, num_variations=8)\n"
          ],
          "name": "stdout"
        },
        {
          "output_type": "stream",
          "text": [
            "/usr/local/lib/python3.7/dist-packages/pygraphviz/agraph.py:1390: RuntimeWarning: Warning: b is not a known color.\n",
            "\n",
            "  warnings.warn(b\"\".join(errors).decode(self.encoding), RuntimeWarning)\n",
            "/usr/local/lib/python3.7/dist-packages/ipykernel_launcher.py:47: UserWarning: This figure includes Axes that are not compatible with tight_layout, so results might be incorrect.\n"
          ],
          "name": "stderr"
        },
        {
          "output_type": "stream",
          "text": [
            "(256, 256, 4)\n",
            "(256, 256, 4)\n",
            "(256, 256, 4)\n",
            "(256, 256, 4)\n",
            "(256, 256, 4)\n",
            "(256, 256, 4)\n",
            "(256, 256, 4)\n",
            "(256, 256, 4)\n",
            "(256, 256, 4)\n",
            "(256, 256, 4)\n",
            "(256, 256, 4)\n",
            "(256, 256, 4)\n",
            "(256, 256, 4)\n",
            "(256, 256, 4)\n",
            "(256, 256, 4)\n",
            "(256, 256, 4)\n",
            "(256, 256, 4)\n"
          ],
          "name": "stdout"
        },
        {
          "output_type": "stream",
          "text": [
            "/usr/local/lib/python3.7/dist-packages/torchvision/utils.py:50: UserWarning: range will be deprecated, please use value_range instead.\n",
            "  warnings.warn(warning)\n"
          ],
          "name": "stderr"
        },
        {
          "output_type": "stream",
          "text": [
            "CPU times: user 1.56 s, sys: 344 ms, total: 1.9 s\n",
            "Wall time: 2.39 s\n"
          ],
          "name": "stdout"
        },
        {
          "output_type": "display_data",
          "data": {
            "image/png": "[encoded data removed]",
            "text/plain": [
              "<Figure size 432x288 with 1 Axes>"
            ]
          },
          "metadata": {
            "tags": []
          }
        }
      ]
    },
    {
      "cell_type": "code",
      "metadata": {
        "colab": {
          "base_uri": "https://localhost:8080/",
          "height": 870
        },
        "id": "TJxtFYyky5qs",
        "outputId": "17f2e199-4e5b-49d3-8052-c4c1f6d03ede"
      },
      "source": [
        "%%time\n",
        "\n",
        "exp_folder = 'exp'\n",
        "num_variations = 10\n",
        "channels = 1\n",
        "batch_size = 1\n",
        "latent_dim = 128\n",
        "n_cpu = 16\n",
        "\n",
        "# print(opt)\n",
        "pickle_path = \"./housegan_pickle.sav\"\n",
        "target_set = 'D'\n",
        "os.makedirs(\"./dump/\", exist_ok=True)\n",
        "os.makedirs(\"./output/\", exist_ok=True)\n",
        "\n",
        "\n",
        "# Create folder\n",
        "os.makedirs(exp_folder, exist_ok=True)\n",
        "\n",
        "generator = pickle.load(open(pickle_path, 'rb'))\n",
        "\n",
        "# Initialize variables\n",
        "cuda = True if torch.cuda.is_available() else False\n",
        "# cuda = False \n",
        "if cuda:\n",
        "    generator.cuda()\n",
        "\n",
        "\n",
        "# # Optimizers\n",
        "Tensor = torch.cuda.FloatTensor if cuda else torch.FloatTensor\n",
        "\n",
        "# ------------\n",
        "#  Vectorize\n",
        "# ------------\n",
        "globalIndex = 0\n",
        "final_images = []\n",
        "target_graph = list(range(500))\n",
        "page_count = 0\n",
        "n_rows = 0\n",
        "\n",
        "nds, eds = custom_input(n, e)\n",
        "\n",
        "given_nds = Variable(nds.type(Tensor))\n",
        "\n",
        "given_eds = eds\n",
        "for k in range(num_variations):\n",
        "    # plot images\n",
        "    z = Variable(Tensor(np.random.normal(0, 1, (given_nds.shape[0], latent_dim))))\n",
        "    with torch.no_grad():\n",
        "        gen_mks = generator(z, given_nds, given_eds)\n",
        "        gen_bbs = np.array([np.array(mask_to_bb(mk)) for mk in gen_mks.detach().cpu()])\n",
        "        real_nodes = np.where(given_nds.detach().cpu()==1)[-1]\n",
        "    gen_bbs = gen_bbs[np.newaxis, :, :]/32.0\n",
        "    junctions = np.array(bb_to_vec(gen_bbs))[0, :, :]\n",
        "    regions = np.array(bb_to_seg(gen_bbs))[0, :, :, :].transpose((1, 2, 0))\n",
        "    graph = [real_nodes, None]\n",
        "    \n",
        "    if k == 0:\n",
        "        graph_arr = draw_graph([real_nodes, eds.detach().cpu().numpy()])\n",
        "        final_images.append(graph_arr)\n",
        "        \n",
        "      \n",
        "        \n",
        "    # reconstruct\n",
        "    fake_im_seg = draw_masks(gen_mks, real_nodes)\n",
        "    final_images.append(fake_im_seg)\n",
        "    fake_im_bb = bb_to_im_fid(gen_bbs, real_nodes, im_size=256).convert('RGBA')\n",
        "    final_images.append(fake_im_bb)\n",
        "n_rows += 1\n",
        "# if (n_rows+1)%12 == 0: \n",
        "final_images_new = []\n",
        "img_to_save = []\n",
        "for idx, im in enumerate(final_images):\n",
        "    print(np.array(im).shape, idx)\n",
        "    if idx!=0:\n",
        "        img_to_save.append(torch.tensor(np.array(im).transpose((2, 0, 1)))/255.0)\n",
        "    final_images_new.append(torch.tensor(np.array(im).transpose((2, 0, 1)))/255.0)\n",
        "\n",
        "    # if idx!=0 and idx%2==0:\n",
        "    #     img_to_save = torch.stack(img_to_save)\n",
        "    #     save_image(img_to_save, \"./output/results_page_{}_{}.png\".format(target_set, page_count+idx), \n",
        "    #         nrow=2*num_variations+1, padding=2, range=(0, 1), pad_value=0.5, normalize=False)\n",
        "    #     img_to_save = []\n",
        "    to_save = torch.tensor(np.array(im).transpose((2, 0, 1)))/255.0\n",
        "    save_image(to_save, \"./output/plan{}_{}.png\".format(target_set, page_count+idx), \n",
        "            nrow=2*num_variations+1, padding=2, range=(0, 1), pad_value=0.5, normalize=False)\n",
        "\n",
        "# print('final: ', final_images_new[0].shape)\n",
        "final_images = final_images_new\n",
        "final_images = torch.stack(final_images)\n",
        "# print(final_images)\n",
        "save_image(final_images, \"./output/plan{}_{}.png\".format(target_set, page_count), \n",
        "           nrow=2*num_variations+1, padding=2, range=(0, 1), pad_value=0.5, normalize=False)\n",
        "page_count += 1\n",
        "n_rows = 0\n",
        "final_images = []\n",
        "\n"
      ],
      "execution_count": null,
      "outputs": [
        {
          "output_type": "stream",
          "text": [
            "/usr/local/lib/python3.7/dist-packages/pygraphviz/agraph.py:1390: RuntimeWarning: Warning: b is not a known color.\n",
            "\n",
            "  warnings.warn(b\"\".join(errors).decode(self.encoding), RuntimeWarning)\n",
            "/usr/local/lib/python3.7/dist-packages/ipykernel_launcher.py:126: UserWarning: This figure includes Axes that are not compatible with tight_layout, so results might be incorrect.\n"
          ],
          "name": "stderr"
        },
        {
          "output_type": "stream",
          "text": [
            "(256, 256, 4) 0\n",
            "(256, 256, 4) 1\n",
            "(256, 256, 4) 2\n",
            "(256, 256, 4) 3\n",
            "(256, 256, 4) 4\n",
            "(256, 256, 4) 5\n",
            "(256, 256, 4) 6\n",
            "(256, 256, 4) 7\n",
            "(256, 256, 4) 8\n",
            "(256, 256, 4) 9\n",
            "(256, 256, 4) 10\n",
            "(256, 256, 4) 11\n",
            "(256, 256, 4) 12\n",
            "(256, 256, 4) 13\n",
            "(256, 256, 4) 14\n",
            "(256, 256, 4) 15\n",
            "(256, 256, 4) 16\n",
            "(256, 256, 4) 17\n",
            "(256, 256, 4) 18\n",
            "(256, 256, 4) 19\n"
          ],
          "name": "stdout"
        },
        {
          "output_type": "stream",
          "text": [
            "/usr/local/lib/python3.7/dist-packages/torchvision/utils.py:50: UserWarning: range will be deprecated, please use value_range instead.\n",
            "  assert isinstance(range, tuple), \\\n"
          ],
          "name": "stderr"
        },
        {
          "output_type": "stream",
          "text": [
            "(256, 256, 4) 20\n",
            "CPU times: user 2.2 s, sys: 171 ms, total: 2.37 s\n",
            "Wall time: 2.27 s\n"
          ],
          "name": "stdout"
        },
        {
          "output_type": "display_data",
          "data": {
            "image/png": "[encoded data removed]",
            "text/plain": [
              "<Figure size 432x288 with 1 Axes>"
            ]
          },
          "metadata": {
            "tags": []
          }
        }
      ]
    },
    {
      "cell_type": "code",
      "metadata": {
        "id": "7jzVasH_2DaX"
      },
      "source": [
        "!rm -r ./output"
      ],
      "execution_count": null,
      "outputs": []
    },
    {
      "cell_type": "code",
      "metadata": {
        "colab": {
          "base_uri": "https://localhost:8080/"
        },
        "id": "abkEoydQ52d6",
        "outputId": "ee75885e-c376-4f5c-cd07-4b6fbdfb6b8f"
      },
      "source": [
        "from google.colab import drive\n",
        "drive.mount('/content/drive')"
      ],
      "execution_count": null,
      "outputs": [
        {
          "output_type": "stream",
          "text": [
            "Mounted at /content/drive\n"
          ],
          "name": "stdout"
        }
      ]
    },
    {
      "cell_type": "code",
      "metadata": {
        "id": "nPFlYO5G8mho"
      },
      "source": [
        ""
      ],
      "execution_count": null,
      "outputs": []
    },
    {
      "cell_type": "markdown",
      "metadata": {
        "id": "waPb6A9s8nK1"
      },
      "source": [
        "# Flask Server"
      ]
    },
    {
      "cell_type": "markdown",
      "metadata": {
        "id": "D_dsiSgoY46i"
      },
      "source": [
        "# Flask"
      ]
    },
    {
      "cell_type": "code",
      "metadata": {
        "colab": {
          "base_uri": "https://localhost:8080/"
        },
        "id": "cnzJvdgdUxzT",
        "outputId": "f1c8094c-700d-4dc7-e7fc-4eaba39d3486"
      },
      "source": [
        "!git clone -b housegan_server https://github.com/tejasbana/floorPlan.git\n",
        "%cd floorPlan/"
      ],
      "execution_count": 1,
      "outputs": [
        {
          "output_type": "stream",
          "text": [
            "Cloning into 'floorPlan'...\n",
            "remote: Enumerating objects: 156, done.\u001b[K\n",
            "remote: Counting objects: 100% (156/156), done.\u001b[K\n",
            "remote: Compressing objects: 100% (111/111), done.\u001b[K\n",
            "remote: Total 156 (delta 80), reused 97 (delta 36), pack-reused 0\u001b[K\n",
            "Receiving objects: 100% (156/156), 219.36 KiB | 6.09 MiB/s, done.\n",
            "Resolving deltas: 100% (80/80), done.\n",
            "/content/floorPlan\n"
          ],
          "name": "stdout"
        }
      ]
    },
    {
      "cell_type": "code",
      "metadata": {
        "id": "iOB-hBhArIoC"
      },
      "source": [
        "!wget --no-check-certificate 'https://docs.google.com/uc?export=download&id=16w4uifjVvuK8xKYcKwrXRNmAEhqKRL2I' -O ./firebase_cre.json"
      ],
      "execution_count": null,
      "outputs": []
    },
    {
      "cell_type": "code",
      "metadata": {
        "id": "tzFwrgKKY4cV"
      },
      "source": [
        "!pip install -r ./requirements.txt"
      ],
      "execution_count": null,
      "outputs": []
    },
    {
      "cell_type": "code",
      "metadata": {
        "id": "XNUvOwBRVviY"
      },
      "source": [
        "!apt install libgraphviz-dev\n",
        "!pip install pygraphviz"
      ],
      "execution_count": null,
      "outputs": []
    },
    {
      "cell_type": "code",
      "metadata": {
        "id": "L7VvpOuY8u1M",
        "colab": {
          "base_uri": "https://localhost:8080/"
        },
        "outputId": "c2fda972-b355-48ff-d6dc-7e0d547982e0"
      },
      "source": [
        "!pip install flask_ngrok"
      ],
      "execution_count": 5,
      "outputs": [
        {
          "output_type": "stream",
          "text": [
            "Requirement already satisfied: flask_ngrok in /usr/local/lib/python3.7/dist-packages (0.0.25)\n",
            "Requirement already satisfied: Flask>=0.8 in /usr/local/lib/python3.7/dist-packages (from flask_ngrok) (1.1.4)\n",
            "Requirement already satisfied: requests in /usr/local/lib/python3.7/dist-packages (from flask_ngrok) (2.23.0)\n",
            "Requirement already satisfied: Jinja2<3.0,>=2.10.1 in /usr/local/lib/python3.7/dist-packages (from Flask>=0.8->flask_ngrok) (2.11.3)\n",
            "Requirement already satisfied: Werkzeug<2.0,>=0.15 in /usr/local/lib/python3.7/dist-packages (from Flask>=0.8->flask_ngrok) (0.16.0)\n",
            "Requirement already satisfied: itsdangerous<2.0,>=0.24 in /usr/local/lib/python3.7/dist-packages (from Flask>=0.8->flask_ngrok) (1.1.0)\n",
            "Requirement already satisfied: click<8.0,>=5.1 in /usr/local/lib/python3.7/dist-packages (from Flask>=0.8->flask_ngrok) (7.1.2)\n",
            "Requirement already satisfied: MarkupSafe>=0.23 in /usr/local/lib/python3.7/dist-packages (from Jinja2<3.0,>=2.10.1->Flask>=0.8->flask_ngrok) (2.0.1)\n",
            "Requirement already satisfied: urllib3!=1.25.0,!=1.25.1,<1.26,>=1.21.1 in /usr/local/lib/python3.7/dist-packages (from requests->flask_ngrok) (1.24.3)\n",
            "Requirement already satisfied: chardet<4,>=3.0.2 in /usr/local/lib/python3.7/dist-packages (from requests->flask_ngrok) (3.0.4)\n",
            "Requirement already satisfied: certifi>=2017.4.17 in /usr/local/lib/python3.7/dist-packages (from requests->flask_ngrok) (2021.5.30)\n",
            "Requirement already satisfied: idna<3,>=2.5 in /usr/local/lib/python3.7/dist-packages (from requests->flask_ngrok) (2.10)\n"
          ],
          "name": "stdout"
        }
      ]
    },
    {
      "cell_type": "code",
      "metadata": {
        "id": "lVd5SZKd8Zsu"
      },
      "source": [
        "!sudo pip install firebase-admin\n",
        "!pip install image_registration"
      ],
      "execution_count": null,
      "outputs": []
    },
    {
      "cell_type": "code",
      "metadata": {
        "id": "rNlQmV8j8cqW",
        "colab": {
          "base_uri": "https://localhost:8080/"
        },
        "outputId": "26066f27-9d95-4552-cbd1-e93a307c8d7c"
      },
      "source": [
        "# !pip install pyrebase\n",
        "!gdown --id 16w4uifjVvuK8xKYcKwrXRNmAEhqKRL2I"
      ],
      "execution_count": 7,
      "outputs": [
        {
          "output_type": "stream",
          "text": [
            "Downloading...\n",
            "From: https://drive.google.com/uc?id=16w4uifjVvuK8xKYcKwrXRNmAEhqKRL2I\n",
            "To: /content/floorPlan/firebase_cre.json\n",
            "\r  0% 0.00/2.34k [00:00<?, ?B/s]\r100% 2.34k/2.34k [00:00<00:00, 1.82MB/s]\n"
          ],
          "name": "stdout"
        }
      ]
    },
    {
      "cell_type": "code",
      "metadata": {
        "id": "HRkI6mRyY9l4"
      },
      "source": [
        "!python3 firebase_server.py"
      ],
      "execution_count": null,
      "outputs": []
    },
    {
      "cell_type": "code",
      "metadata": {
        "colab": {
          "base_uri": "https://localhost:8080/"
        },
        "id": "-Sf6zCJ5g4NK",
        "outputId": "94760e7b-44c6-4457-e867-6137e5320c6d"
      },
      "source": [
        "!flask_uploads --version"
      ],
      "execution_count": null,
      "outputs": [
        {
          "output_type": "stream",
          "text": [
            "/bin/bash: flask_uploads: command not found\n"
          ],
          "name": "stdout"
        }
      ]
    },
    {
      "cell_type": "code",
      "metadata": {
        "id": "bNHGPiWjZVuO"
      },
      "source": [
        "!python3 server.py"
      ],
      "execution_count": null,
      "outputs": []
    },
    {
      "cell_type": "code",
      "metadata": {
        "id": "TP7kGZebDzxk"
      },
      "source": [
        "https://stackoverflow.com/questions/15661384/python-does-not-see-pygraphviz\n",
        "https://stackoverflow.com/questions/15661384/python-does-not-see-pygraphviz"
      ],
      "execution_count": null,
      "outputs": []
    },
    {
      "cell_type": "markdown",
      "metadata": {
        "id": "lj74_pVhXzbn"
      },
      "source": [
        "# Flask Fetch  Image"
      ]
    },
    {
      "cell_type": "code",
      "metadata": {
        "id": "5ndnUf5KX7zx"
      },
      "source": [
        "!pip install image_registration"
      ],
      "execution_count": null,
      "outputs": []
    },
    {
      "cell_type": "code",
      "metadata": {
        "id": "6N-vm2bSDJB2"
      },
      "source": [
        ""
      ],
      "execution_count": null,
      "outputs": []
    },
    {
      "cell_type": "code",
      "metadata": {
        "colab": {
          "base_uri": "https://localhost:8080/"
        },
        "id": "aU-Mmremd6q2",
        "outputId": "bd2070d7-8354-43a2-f833-b363d65f7bd3"
      },
      "source": [
        "import scipy as sp \n",
        "print(sp.__version__)"
      ],
      "execution_count": 29,
      "outputs": [
        {
          "output_type": "stream",
          "text": [
            "1.7.1\n"
          ],
          "name": "stdout"
        }
      ]
    },
    {
      "cell_type": "code",
      "metadata": {
        "id": "28QTIMbRX1Kl"
      },
      "source": [
        "# !python colab_boundary_server.py\n",
        "!python server.py"
      ],
      "execution_count": null,
      "outputs": []
    },
    {
      "cell_type": "code",
      "metadata": {
        "id": "--n4a9UYkxUY"
      },
      "source": [
        "context = ('./server.crt', './server.key')# app.run(debug=True, use_reloader=True, threaded=True)\n",
        "#app.run(host=\"0.0.0.0\", port=5000,debug=True,  ssl_context=context)\n",
        "app.run(debug=True)"
      ],
      "execution_count": null,
      "outputs": []
    },
    {
      "cell_type": "code",
      "metadata": {
        "colab": {
          "base_uri": "https://localhost:8080/"
        },
        "id": "JtEme4oVZCQ5",
        "outputId": "2548505c-4378-44f5-f066-439ff4e63160"
      },
      "source": [
        "final_list"
      ],
      "execution_count": 21,
      "outputs": [
        {
          "output_type": "execute_result",
          "data": {
            "text/plain": [
              "[12, 12, 5, 5, 3]"
            ]
          },
          "metadata": {
            "tags": []
          },
          "execution_count": 21
        }
      ]
    },
    {
      "cell_type": "code",
      "metadata": {
        "id": "8Wq5-LOcZDD7"
      },
      "source": [
        ""
      ],
      "execution_count": null,
      "outputs": []
    }
  ]
}