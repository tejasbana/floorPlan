{
  "nbformat": 4,
  "nbformat_minor": 0,
  "metadata": {
    "colab": {
      "name": "ImageAlignment_2.ipynb",
      "provenance": [],
      "collapsed_sections": []
    },
    "kernelspec": {
      "name": "python3",
      "display_name": "Python 3"
    },
    "language_info": {
      "name": "python"
    }
  },
  "cells": [
    {
      "cell_type": "code",
      "metadata": {
        "id": "oZhMHvPf3QMe"
      },
      "source": [
        "import cv2\n",
        "import numpy as np\n",
        "# import matplotlib.pyplot as plt\n",
        "import matplotlib.image as mpimg\n",
        "from google.colab.patches import cv2_imshow\n",
        "import os\n",
        "import PIL\n",
        "from PIL import Image\n",
        "# %matplotlib notebook\n",
        "# PIL.Image.MAX_IMAGE_PIXELS = 933120000"
      ],
      "execution_count": 1,
      "outputs": []
    },
    {
      "cell_type": "code",
      "metadata": {
        "colab": {
          "base_uri": "https://localhost:8080/"
        },
        "id": "FGLLIs3L3Qyi",
        "outputId": "6293673b-9d61-443a-800e-46b92e1291f8"
      },
      "source": [
        "!gdown --id 1umso1scO-DY0pR7SocBMMif08Zfxx9os\n",
        "!gdown --id 1-5BEz_Ul343gEZtCbSeNoDeJSV0h7w0Z\n",
        "!unzip train_input.zip\n",
        "!unzip train_output.zip\n",
        "\n",
        "\n",
        "def rgba_to_rgb(path):\n",
        "    for dir in os.listdir(path):\n",
        "        filename = os.path.join(path,dir)\n",
        "        # print(Image.open(os.path.join(\"./inputs/train_input\",dir)).convert(\"RGB\").mode )\n",
        "        if Image.open(filename).mode == \"RGBA\":\n",
        "            png = Image.open(filename)\n",
        "            png.load() # required for png.split()\n",
        "            background = Image.new(\"RGB\", png.size, (255, 255, 255))\n",
        "            background.paste(png, mask=png.split()[3]) # 3 is the alpha channel\n",
        "            background.save(filename, 'png', quality=80)\n",
        "\n",
        "rgba_to_rgb(\"./content/train_input\")\n",
        "rgba_to_rgb(\"./content/train_output\")\n",
        "\n",
        "\n",
        "def check_rgba(path):\n",
        "    count=0\n",
        "    for dir in os.listdir(path):\n",
        "        filename = os.path.join(path,dir)\n",
        "        if Image.open(filename).mode == \"RGBA\":\n",
        "            count+=1\n",
        "    print(count)\n",
        "\n",
        "print(check_rgba(\"./content/train_input\"))\n",
        "print(check_rgba(\"./content/train_output\"))\n",
        "\n",
        "\n",
        "len(os.listdir(\"./content/train_input\")), len(os.listdir(\"./content/train_output\"))"
      ],
      "execution_count": null,
      "outputs": [
        {
          "output_type": "stream",
          "text": [
            "0\n",
            "None\n",
            "0\n",
            "None\n"
          ],
          "name": "stdout"
        },
        {
          "output_type": "execute_result",
          "data": {
            "text/plain": [
              "(2730, 2725)"
            ]
          },
          "metadata": {
            "tags": []
          },
          "execution_count": 2
        }
      ]
    },
    {
      "cell_type": "code",
      "metadata": {
        "id": "wo55TpL-dRaQ"
      },
      "source": [
        "!pip install matplotlib==3.1"
      ],
      "execution_count": null,
      "outputs": []
    },
    {
      "cell_type": "markdown",
      "metadata": {
        "id": "96dShM-h32gX"
      },
      "source": [
        "# From here"
      ]
    },
    {
      "cell_type": "code",
      "metadata": {
        "colab": {
          "base_uri": "https://localhost:8080/"
        },
        "id": "kQD8Z13z6ngX",
        "outputId": "6dd77826-6e70-4692-cb46-d3f61347245e"
      },
      "source": [
        "!pip install image_registration"
      ],
      "execution_count": 1,
      "outputs": [
        {
          "output_type": "stream",
          "text": [
            "Collecting image_registration\n",
            "  Downloading image_registration-0.2.4.tar.gz (2.8 MB)\n",
            "\u001b[K     |████████████████████████████████| 2.8 MB 7.3 MB/s \n",
            "\u001b[?25hCollecting FITS_tools\n",
            "  Downloading FITS_tools-0.2.tar.gz (167 kB)\n",
            "\u001b[K     |████████████████████████████████| 167 kB 50.6 MB/s \n",
            "\u001b[?25hRequirement already satisfied: matplotlib in /usr/local/lib/python3.7/dist-packages (from image_registration) (3.2.2)\n",
            "Requirement already satisfied: astropy in /usr/local/lib/python3.7/dist-packages (from image_registration) (4.3.1)\n",
            "Requirement already satisfied: pyerfa>=1.7.3 in /usr/local/lib/python3.7/dist-packages (from astropy->image_registration) (2.0.0)\n",
            "Requirement already satisfied: numpy>=1.17 in /usr/local/lib/python3.7/dist-packages (from astropy->image_registration) (1.19.5)\n",
            "Requirement already satisfied: importlib-metadata in /usr/local/lib/python3.7/dist-packages (from astropy->image_registration) (4.6.4)\n",
            "Requirement already satisfied: zipp>=0.5 in /usr/local/lib/python3.7/dist-packages (from importlib-metadata->astropy->image_registration) (3.5.0)\n",
            "Requirement already satisfied: typing-extensions>=3.6.4 in /usr/local/lib/python3.7/dist-packages (from importlib-metadata->astropy->image_registration) (3.7.4.3)\n",
            "Requirement already satisfied: kiwisolver>=1.0.1 in /usr/local/lib/python3.7/dist-packages (from matplotlib->image_registration) (1.3.1)\n",
            "Requirement already satisfied: pyparsing!=2.0.4,!=2.1.2,!=2.1.6,>=2.0.1 in /usr/local/lib/python3.7/dist-packages (from matplotlib->image_registration) (2.4.7)\n",
            "Requirement already satisfied: cycler>=0.10 in /usr/local/lib/python3.7/dist-packages (from matplotlib->image_registration) (0.10.0)\n",
            "Requirement already satisfied: python-dateutil>=2.1 in /usr/local/lib/python3.7/dist-packages (from matplotlib->image_registration) (2.8.2)\n",
            "Requirement already satisfied: six in /usr/local/lib/python3.7/dist-packages (from cycler>=0.10->matplotlib->image_registration) (1.15.0)\n",
            "Building wheels for collected packages: image-registration, FITS-tools\n",
            "  Building wheel for image-registration (setup.py) ... \u001b[?25l\u001b[?25hdone\n",
            "  Created wheel for image-registration: filename=image_registration-0.2.4-py3-none-any.whl size=68384 sha256=6047dc21aec2a31d3b463bfcddb7aa47808651c6b17360a0a09b3143450c0ba2\n",
            "  Stored in directory: /root/.cache/pip/wheels/53/6e/a7/88756ce112b92bc1fe97a115abd33c8c7e756cc734d989ff29\n",
            "  Building wheel for FITS-tools (setup.py) ... \u001b[?25l\u001b[?25hdone\n",
            "  Created wheel for FITS-tools: filename=FITS_tools-0.2-py3-none-any.whl size=30986 sha256=604505b7a2a2c1837ad3723fe139b56db00917fb96be72ca68d002efe91760a6\n",
            "  Stored in directory: /root/.cache/pip/wheels/42/12/16/11103ef889df58e140f435d613138791d9d9e9a99d6f06432c\n",
            "Successfully built image-registration FITS-tools\n",
            "Installing collected packages: FITS-tools, image-registration\n",
            "Successfully installed FITS-tools-0.2 image-registration-0.2.4\n"
          ],
          "name": "stdout"
        }
      ]
    },
    {
      "cell_type": "code",
      "metadata": {
        "id": "N1tEVaRKXOWn"
      },
      "source": [
        "def resize_image(image):\n",
        "    return cv2.resize(image, (256, 256), interpolation = cv2.INTER_CUBIC)\n",
        "\n",
        "def rotate_image(image):\n",
        "    return cv2.rotate(image, cv2.cv2.ROTATE_90_CLOCKWISE)\n",
        "\n",
        "def color_it_black(image):\n",
        "    np_image = np.array(image)\n",
        "    print(np_image.shape, np_image.min(), np_image.max())\n",
        "    for i in range(np_image.shape[0]):\n",
        "        for j in range(np_image.shape[1]):\n",
        "            np_image[i,j] = 0 if np_image[i,j] < 200 else 255\n",
        "    print(np_image.shape, np_image.min(), np_image.max())\n",
        "    return np_image\n",
        "    # return Image.fromarray( np_image, \"L\" )\n",
        "\n",
        "image1 = \"/content/photos/1.png\"\n",
        "image = cv2.imread(image1)\n",
        "image = cv2.cvtColor(image, cv2.COLOR_BGR2GRAY)\n",
        "color_it_black(image)"
      ],
      "execution_count": null,
      "outputs": []
    },
    {
      "cell_type": "code",
      "metadata": {
        "colab": {
          "base_uri": "https://localhost:8080/",
          "height": 882
        },
        "id": "HiVW60iF2kr_",
        "outputId": "ba079aaa-9df0-435b-c5ab-70ff29254344"
      },
      "source": [
        "#Method 1: chi squared shift\n",
        "from skimage import io\n",
        "from image_registration import chi2_shift\n",
        "import cv2\n",
        "image1 = \"/content/photos/1.png\"\n",
        "image2 = \"/content/photos/3.png\"\n",
        "\n",
        "image = io.imread(image1)\n",
        "offset_image = io.imread(image2)\n",
        "\n",
        "image = cv2.imread(image1)\n",
        "image = cv2.cvtColor(image, cv2.COLOR_BGR2GRAY)\n",
        "w, h = image.shape\n",
        "\n",
        "offset_image = cv2.imread(image2)\n",
        "offset_image = cv2.cvtColor(offset_image, cv2.COLOR_BGR2GRAY)\n",
        "offset_image = cv2.resize(offset_image, (h,w)) \n",
        "\n",
        "# Resize both images to same shape\n",
        "offset_image = resize_image(offset_image)\n",
        "image = resize_image(image)\n",
        "# Rotate offset_image\n",
        "offset_image = rotate_image(offset_image)\n",
        "\n",
        "# conver to complete black\n",
        "offset_image = color_it_black(offset_image)\n",
        "image = color_it_black(image)\n",
        "print(image.shape, offset_image.shape)\n",
        "\n",
        "#Method 1: chi squared shift\n",
        "#Find the offsets between image 1 and image 2 using the DFT upsampling method\n",
        "noise=0.1\n",
        "xoff, yoff, exoff, eyoff = chi2_shift(image, offset_image, noise, \n",
        "                                      return_error=True, upsample_factor='auto')\n",
        "\n",
        "print(\"Pixels shifted by: \", xoff, yoff)\n",
        "\n",
        "from scipy.ndimage import shift\n",
        "corrected_image = shift(offset_image, shift=(xoff,yoff), mode='constant')\n",
        "\n",
        "from matplotlib import pyplot as plt\n",
        "fig = plt.figure(figsize=(10, 10))\n",
        "ax1 = fig.add_subplot(2,2,1)\n",
        "ax1.imshow(image, cmap='gray')\n",
        "ax1.title.set_text('Input Image')\n",
        "ax2 = fig.add_subplot(2,2,2)\n",
        "ax2.imshow(offset_image, cmap='gray')\n",
        "ax2.title.set_text('Offset image')\n",
        "ax3 = fig.add_subplot(2,2,3)\n",
        "ax3.imshow(corrected_image, cmap='gray')\n",
        "ax3.title.set_text('Corrected')\n",
        "plt.show()"
      ],
      "execution_count": 12,
      "outputs": [
        {
          "output_type": "stream",
          "text": [
            "(256, 256) 0 255\n",
            "(256, 256) 0 255\n",
            "(256, 256) 0 255\n",
            "(256, 256) 0 255\n",
            "(256, 256) (256, 256)\n",
            "Pixels shifted by:  -22.638671875 -31.740234375\n"
          ],
          "name": "stdout"
        },
        {
          "output_type": "stream",
          "text": [
            "/usr/local/lib/python3.7/dist-packages/image_registration/fft_tools/convolve_nd.py:269: FutureWarning: Using a non-tuple sequence for multidimensional indexing is deprecated; use `arr[tuple(seq)]` instead of `arr[seq]`. In the future this will be interpreted as an array index, `arr[np.array(seq)]`, which will result either in an error or a different result.\n",
            "  bigarray[arrayslices] = array\n",
            "/usr/local/lib/python3.7/dist-packages/image_registration/fft_tools/convolve_nd.py:270: FutureWarning: Using a non-tuple sequence for multidimensional indexing is deprecated; use `arr[tuple(seq)]` instead of `arr[seq]`. In the future this will be interpreted as an array index, `arr[np.array(seq)]`, which will result either in an error or a different result.\n",
            "  bigkernel[kernslices] = kernel\n",
            "/usr/local/lib/python3.7/dist-packages/image_registration/fft_tools/convolve_nd.py:325: FutureWarning: Using a non-tuple sequence for multidimensional indexing is deprecated; use `arr[tuple(seq)]` instead of `arr[seq]`. In the future this will be interpreted as an array index, `arr[np.array(seq)]`, which will result either in an error or a different result.\n",
            "  result = rifft[arrayslices].real\n",
            "/usr/local/lib/python3.7/dist-packages/image_registration/fft_tools/zoom.py:101: FutureWarning: Using a non-tuple sequence for multidimensional indexing is deprecated; use `arr[tuple(seq)]` instead of `arr[seq]`. In the future this will be interpreted as an array index, `arr[np.array(seq)]`, which will result either in an error or a different result.\n",
            "  outarr[ii] = outarr_d[dims]\n"
          ],
          "name": "stderr"
        },
        {
          "output_type": "display_data",
          "data": {
            "image/png": "[encoded data removed]",
            "text/plain": [
              "<Figure size 720x720 with 3 Axes>"
            ]
          },
          "metadata": {
            "tags": [],
            "needs_background": "light"
          }
        }
      ]
    },
    {
      "cell_type": "code",
      "metadata": {
        "colab": {
          "base_uri": "https://localhost:8080/",
          "height": 754
        },
        "id": "1Wop3xV632Vn",
        "outputId": "ab6c7e4d-5baa-40df-fdab-7a2e1c57470a"
      },
      "source": [
        "#Method 2: cross_correlation_shifts \n",
        "\n",
        "from image_registration import cross_correlation_shifts\n",
        "xoff, yoff = cross_correlation_shifts(image, offset_image)\n",
        "\n",
        "\n",
        "print(\"Pixels shifted by: \", xoff, yoff)\n",
        "\n",
        "\n",
        "from scipy.ndimage import shift\n",
        "corrected_image = shift(offset_image, shift=(xoff,yoff), mode='constant')\n",
        "\n",
        "from matplotlib import pyplot as plt\n",
        "fig = plt.figure(figsize=(10, 10))\n",
        "ax1 = fig.add_subplot(2,2,1)\n",
        "ax1.imshow(image, cmap='gray')\n",
        "ax1.title.set_text('Input Image')\n",
        "ax2 = fig.add_subplot(2,2,2)\n",
        "ax2.imshow(offset_image, cmap='gray')\n",
        "ax2.title.set_text('Offset image')\n",
        "ax3 = fig.add_subplot(2,2,3)\n",
        "ax3.imshow(corrected_image, cmap='gray')\n",
        "ax3.title.set_text('Corrected')\n",
        "plt.show()"
      ],
      "execution_count": 13,
      "outputs": [
        {
          "output_type": "stream",
          "text": [
            "/usr/local/lib/python3.7/dist-packages/image_registration/fft_tools/convolve_nd.py:269: FutureWarning: Using a non-tuple sequence for multidimensional indexing is deprecated; use `arr[tuple(seq)]` instead of `arr[seq]`. In the future this will be interpreted as an array index, `arr[np.array(seq)]`, which will result either in an error or a different result.\n",
            "  bigarray[arrayslices] = array\n",
            "/usr/local/lib/python3.7/dist-packages/image_registration/fft_tools/convolve_nd.py:270: FutureWarning: Using a non-tuple sequence for multidimensional indexing is deprecated; use `arr[tuple(seq)]` instead of `arr[seq]`. In the future this will be interpreted as an array index, `arr[np.array(seq)]`, which will result either in an error or a different result.\n",
            "  bigkernel[kernslices] = kernel\n",
            "/usr/local/lib/python3.7/dist-packages/image_registration/fft_tools/convolve_nd.py:325: FutureWarning: Using a non-tuple sequence for multidimensional indexing is deprecated; use `arr[tuple(seq)]` instead of `arr[seq]`. In the future this will be interpreted as an array index, `arr[np.array(seq)]`, which will result either in an error or a different result.\n",
            "  result = rifft[arrayslices].real\n"
          ],
          "name": "stderr"
        },
        {
          "output_type": "stream",
          "text": [
            "Pixels shifted by:  -22.04594380668612 -31.84930754067285\n"
          ],
          "name": "stdout"
        },
        {
          "output_type": "display_data",
          "data": {
            "image/png": "[encoded data removed]",
            "text/plain": [
              "<Figure size 720x720 with 3 Axes>"
            ]
          },
          "metadata": {
            "tags": [],
            "needs_background": "light"
          }
        }
      ]
    },
    {
      "cell_type": "code",
      "metadata": {
        "id": "YgS2oYvVdAY6"
      },
      "source": [
        ""
      ],
      "execution_count": 13,
      "outputs": []
    },
    {
      "cell_type": "code",
      "metadata": {
        "colab": {
          "base_uri": "https://localhost:8080/",
          "height": 643
        },
        "id": "e8AXCA9Z8-RI",
        "outputId": "b844a150-9989-49f7-a3e4-b2f91756920a"
      },
      "source": [
        "#Method 3: mean of all pixels\n",
        "from skimage import registration\n",
        "flow = registration.optical_flow_tvl1(image, offset_image)\n",
        "\n",
        "# display dense optical flow\n",
        "flow_x = flow[1, :, :]\n",
        "flow_y = flow[0, :, :]\n",
        "\n",
        "\n",
        "#Let us find the mean of all pixels in x and y and shift image by that amount\n",
        "#ideally, you need to move each pixel by the amount from flow\n",
        "import numpy as np\n",
        "xoff = np.mean(flow_x)\n",
        "yoff = np.mean(flow_y)\n",
        "\n",
        "\n",
        "print(\"Offset image was translated by: 18.75, -17.45\")\n",
        "print(\"Pixels shifted by: \", xoff, yoff)\n",
        "\n",
        "\n",
        "from scipy.ndimage import shift\n",
        "corrected_image = shift(offset_image, shift=(xoff,yoff), mode='constant')\n",
        "\n",
        "cv2.imwrite('corrected_image.png', corrected_image)\n",
        "\n",
        "from matplotlib import pyplot as plt\n",
        "fig = plt.figure(figsize=(10, 10))\n",
        "ax1 = fig.add_subplot(2,2,1)\n",
        "ax1.imshow(image, cmap='gray')\n",
        "ax1.title.set_text('Input Image')\n",
        "ax2 = fig.add_subplot(2,2,2)\n",
        "ax2.imshow(offset_image, cmap='gray')\n",
        "ax2.title.set_text('Offset image')\n",
        "ax3 = fig.add_subplot(2,2,3)\n",
        "ax3.imshow(corrected_image, cmap='gray')\n",
        "ax3.title.set_text('Corrected')\n",
        "plt.show()"
      ],
      "execution_count": 14,
      "outputs": [
        {
          "output_type": "stream",
          "text": [
            "Offset image was translated by: 18.75, -17.45\n",
            "Pixels shifted by:  4.421864 -5.6980085\n"
          ],
          "name": "stdout"
        },
        {
          "output_type": "display_data",
          "data": {
            "image/png": "[encoded data removed]",
            "text/plain": [
              "<Figure size 720x720 with 3 Axes>"
            ]
          },
          "metadata": {
            "tags": [],
            "needs_background": "light"
          }
        }
      ]
    },
    {
      "cell_type": "code",
      "metadata": {
        "id": "Di3HJR7z-MU1"
      },
      "source": [
        "import numpy as np\n",
        "import cv2\n",
        "\n",
        "# Read input image\n",
        "img1 = cv2.imread('/content/content/train_input/10008.png')\n",
        "img = cv2.imread('/content/content/train_output/10008.png')\n",
        "img2 = cv2.imread('./corrected_image.png')\n",
        "\n",
        "\n",
        "grid_rgb = cv2.cvtColor(img, cv2.COLOR_BGR2RGB)\n",
        "\n",
        "\n",
        "# Gel all pixels in the image - where BGR = (34, 33, 33), OpenCV colors order is BGR not RGB\n",
        "# yellow rooms\n",
        "gray = np.all(grid_rgb == (254, 223, 130), 2)\n",
        "gray += np.all(grid_rgb == (254, 224, 128), 2)\n",
        "gray += np.all(grid_rgb == (253, 223, 128), 2)\n",
        "\n",
        "# Convert logical matrix to uint8\n",
        "gray = gray.astype(np.uint8)*255\n",
        "\n",
        "# Find contours\n",
        "cnts = cv2.findContours(gray, cv2.RETR_EXTERNAL, cv2.CHAIN_APPROX_NONE)[-2]  # Use index [-2] to be compatible to OpenCV 3 and 4\n",
        "\n",
        "c = max(cnts, key=cv2.contourArea)\n",
        "\n",
        "for c in cnts:\n",
        "    x, y, w, h = cv2.boundingRect(c)\n",
        "\n",
        "    # Draw green rectangle for testing\n",
        "    cv2.rectangle(img, (x, y), (x+w, y+h), (0, 255, 0), thickness = 2)\n",
        "    cv2.rectangle(img2, (x, y), (x+w, y+h), (0, 255, 0), thickness = 2)\n",
        "    cv2.rectangle(img1, (x, y), (x+w, y+h), (0, 255, 0), thickness = 2)\n",
        "\n",
        "# Show result\n",
        "cv2_imshow(gray)\n",
        "cv2_imshow(img)\n",
        "cv2_imshow(img2)\n",
        "cv2_imshow(img1)\n",
        "\n",
        " \n",
        "cv2.waitKey(0)\n",
        "cv2.destroyAllWindows()"
      ],
      "execution_count": null,
      "outputs": []
    },
    {
      "cell_type": "code",
      "metadata": {
        "id": "EajfMrch_imP"
      },
      "source": [
        "#function to align the thermal and visible image, it returns the homography matrix \n",
        "def alignImages(im1, im2,filename):\n",
        " \n",
        "  # Convert images to grayscale\n",
        "  im1Gray = cv2.cvtColor(im1, cv2.COLOR_BGR2GRAY)\n",
        "  im2Gray = cv2.cvtColor(im2, cv2.COLOR_BGR2GRAY)\n",
        "   \n",
        "  # Detect ORB features and compute descriptors.\n",
        "  orb = cv2.ORB_create(MAX_FEATURES)\n",
        "  keypoints1, descriptors1 = orb.detectAndCompute(im1Gray, None)\n",
        "  keypoints2, descriptors2 = orb.detectAndCompute(im2Gray, None)\n",
        "   \n",
        "  # Match features.\n",
        "  matcher = cv2.DescriptorMatcher_create(cv2.DESCRIPTOR_MATCHER_BRUTEFORCE_HAMMING)\n",
        "  matches = matcher.match(descriptors1, descriptors2, None)\n",
        "   \n",
        "  # Sort matches by score\n",
        "  matches.sort(key=lambda x: x.distance, reverse=False)\n",
        "\n",
        "  # experimenting\n",
        "#   matches.sort(key=lambda y: y.distance, reverse=False)\n",
        " \n",
        "  # Remove not so good matches\n",
        "  numGoodMatches = int(len(matches) * GOOD_MATCH_PERCENT)\n",
        "  matches = matches[:numGoodMatches]\n",
        " \n",
        "  # Draw top matches\n",
        "  imMatches = cv2.drawMatches(im1, keypoints1, im2, keypoints2, matches, None)\n",
        "  cv2.imwrite(os.path.join('./registration/',filename), imMatches)\n",
        "   \n",
        "  # Extract location of good matches\n",
        "  points1 = np.zeros((len(matches), 2), dtype=np.float32)\n",
        "  points2 = np.zeros((len(matches), 2), dtype=np.float32)\n",
        " \n",
        "  for i, match in enumerate(matches):\n",
        "    points1[i, :] = keypoints1[match.queryIdx].pt\n",
        "    points2[i, :] = keypoints2[match.trainIdx].pt\n",
        "   \n",
        "  # Find homography\n",
        "  h, mask = cv2.findHomography(points1, points2, cv2.RANSAC)\n",
        " \n",
        "  # Use homography\n",
        "  height, width, channels = im2.shape\n",
        "#   print(im2.shape)\n",
        "#   height, width = im2.shape\n",
        "  im1Reg = cv2.warpPerspective(im1, h, (width, height))\n",
        "   \n",
        "  return im1Reg, h\n"
      ],
      "execution_count": 30,
      "outputs": []
    },
    {
      "cell_type": "code",
      "metadata": {
        "colab": {
          "base_uri": "https://localhost:8080/"
        },
        "id": "34GRvt3ujKji",
        "outputId": "0be99589-b5f1-453f-8a0f-274ebe4c144a"
      },
      "source": [
        "import cv2\n",
        "image1 = \"/content/photos/1.png\"\n",
        "image2 = \"/content/photos/1.png\"\n",
        "\n",
        "image = io.imread(image1)\n",
        "offset_image = io.imread(image2)\n",
        "\n",
        "image = cv2.imread(image1)\n",
        "image = cv2.cvtColor(image, cv2.COLOR_BGR2GRAY)\n",
        "w, h = image.shape\n",
        "\n",
        "offset_image = cv2.imread(image2)\n",
        "offset_image = cv2.cvtColor(offset_image, cv2.COLOR_BGR2GRAY)\n",
        "offset_image = cv2.resize(offset_image, (h,w)) \n",
        "\n",
        "# Resize both images to same shape\n",
        "offset_image = resize_image(offset_image)\n",
        "image = resize_image(image)\n",
        "# Rotate offset_image\n",
        "offset_image = rotate_image(offset_image)\n",
        "\n",
        "# conver to complete black\n",
        "offset_image = color_it_black(offset_image)\n",
        "image = color_it_black(image)\n",
        "\n",
        "# Save Both\n",
        "file1 = \"/content/original.png\"\n",
        "file2 = \"/content/offset.png\"\n",
        "cv2.imwrite(file1, image)\n",
        "cv2.imwrite(file2, offset_image)"
      ],
      "execution_count": 31,
      "outputs": [
        {
          "output_type": "stream",
          "text": [
            "(256, 256) 0 255\n",
            "(256, 256) 0 255\n",
            "(256, 256) 0 255\n",
            "(256, 256) 0 255\n"
          ],
          "name": "stdout"
        },
        {
          "output_type": "execute_result",
          "data": {
            "text/plain": [
              "True"
            ]
          },
          "metadata": {
            "tags": []
          },
          "execution_count": 31
        }
      ]
    },
    {
      "cell_type": "code",
      "metadata": {
        "colab": {
          "base_uri": "https://localhost:8080/",
          "height": 1000
        },
        "id": "3-B1TFQF_oW-",
        "outputId": "bb851eb6-d181-4bfa-b2ea-7cd46a96885c"
      },
      "source": [
        "# ORB\n",
        "from __future__ import print_function\n",
        "import numpy as np\n",
        "import argparse\n",
        "import imutils\n",
        "import glob\n",
        "import cv2\n",
        "import os\n",
        "import argparse\n",
        "\n",
        "\n",
        "MAX_FEATURES = 500\n",
        "GOOD_MATCH_PERCENT = 0.15\n",
        "\n",
        "\n",
        "\n",
        "path_thermal = file2\n",
        "# path_thermal = './test.png'\n",
        "path_black = image1#file2\n",
        "# path_thermal = './input.png'\n",
        "# path_black = './output.png'\n",
        "\n",
        "show = True\n",
        "\n",
        "# put the thermal image in a folder named thermal and the visible image in a folder named visible with the same name\n",
        "# load the image image, convert it to grayscale, and detect edges\n",
        "template = cv2.imread(path_thermal)\n",
        "template = cv2.cvtColor(template, cv2.COLOR_BGR2GRAY)\n",
        "template = cv2.Canny(template, 50, 200)\n",
        "(tH, tW) = template.shape[:2]\n",
        "cv2_imshow(template)\n",
        "\n",
        "# loop over the images to find the template in\n",
        "\n",
        "# load the image, convert it to grayscale, and initialize the\n",
        "# bookkeeping variable to keep track of the matched region\n",
        "image = cv2.imread(path_black)\n",
        "gray = cv2.cvtColor(image, cv2.COLOR_BGR2GRAY)\n",
        "found = None\n",
        "\n",
        "# loop over the scales of the image\n",
        "for scale in np.linspace(0.2, 1.0, 20)[::-1]:\n",
        "    # resize the image according to the scale, and keep track\n",
        "    # of the ratio of the resizing\n",
        "    resized = imutils.resize(gray, width = int(gray.shape[1] * scale))\n",
        "    r = gray.shape[1] / float(resized.shape[1])\n",
        "\n",
        "    # if the resized image is smaller than the template, then break\n",
        "    # from the loop\n",
        "    if resized.shape[0] < tH or resized.shape[1] < tW:\n",
        "        break\n",
        "\n",
        "    # detect edges in the resized, grayscale image and apply template\n",
        "    # matching to find the template in the image\n",
        "    edged = cv2.Canny(resized, 50, 200)\n",
        "    result = cv2.matchTemplate(edged, template, cv2.TM_CCOEFF)\n",
        "    (_, maxVal, _, maxLoc) = cv2.minMaxLoc(result)\n",
        "\n",
        "    # check to see if the iteration should be visualized\n",
        "    if show:\n",
        "        # draw a bounding box around the detected region\n",
        "        clone = np.dstack([edged, edged, edged])\n",
        "        cv2.rectangle(clone, (maxLoc[0], maxLoc[1]),\n",
        "            (maxLoc[0] + tW, maxLoc[1] + tH), (0, 0, 255), 2)\n",
        "        cv2_imshow(clone)\n",
        "        cv2.waitKey(0)\n",
        "\n",
        "    # if we have found a new maximum correlation value, then update\n",
        "    # the bookkeeping variable\n",
        "    if found is None or maxVal > found[0]:\n",
        "        found = (maxVal, maxLoc, r)\n",
        "\n",
        "# unpack the bookkeeping variable and compute the (x, y) coordinates\n",
        "# of the bounding box based on the resized ratio\n",
        "(_, maxLoc, r) = found\n",
        "(startX, startY) = (int(maxLoc[0] * r), int(maxLoc[1] * r))\n",
        "(endX, endY) = (int((maxLoc[0] + tW) * r), int((maxLoc[1] + tH) * r))\n",
        "\n",
        "# draw a bounding box around the detected result and display the image\n",
        "cv2.rectangle(image, (startX, startY), (endX, endY), (0, 0, 255), 2)\n",
        "crop_img = image[startY:endY, startX:endX]\n",
        "cv2_imshow(image)\n",
        "cv2_imshow(crop_img)\n",
        "\n",
        "name = path_thermal#\"thermal/\"+args[\"image\"]\n",
        "thermal_image = cv2.imread(name, cv2.IMREAD_COLOR)\n",
        "\n",
        "#cropping out the matched part of the thermal image\n",
        "crop_img = cv2.resize(crop_img, (thermal_image.shape[1], thermal_image.shape[0]))\n",
        "\n",
        "#cropped image will be saved in a folder named output\n",
        "cv2.imwrite(\"test.png\",crop_img)\n",
        "\n",
        "#both images are concatenated and saved in a folder named results\n",
        "final = np.concatenate((crop_img, thermal_image), axis = 1)\n",
        "cv2.imwrite(\"result.png\",final)\n",
        "\n",
        "cv2.waitKey(0)\n",
        "# Registration\n",
        "# Read reference image\n",
        "refFilename = path_thermal\n",
        "print(\"Reading reference image : \", refFilename)\n",
        "imReference = cv2.imread(refFilename, cv2.IMREAD_COLOR)\n",
        "\n",
        "# Read image to be aligned\n",
        "imFilename = path_black\n",
        "print(\"Reading image to align : \", imFilename);  \n",
        "im = cv2.imread(imFilename, cv2.IMREAD_COLOR)\n",
        "file_name=\"10008.png\"\n",
        "imReg, h = alignImages(im,imReference,file_name)\n",
        "print(\"Estimated homography : \\n\",  h)"
      ],
      "execution_count": 33,
      "outputs": [
        {
          "output_type": "display_data",
          "data": {
            "image/png": "[encoded data removed]",
            "text/plain": [
              "<PIL.Image.Image image mode=L size=256x256 at 0x7FE2D31A9ED0>"
            ]
          },
          "metadata": {
            "tags": []
          }
        },
        {
          "output_type": "display_data",
          "data": {
            "image/png": "[encoded data removed]",
            "text/plain": [
              "<PIL.Image.Image image mode=RGB size=384x484 at 0x7FE2D3193710>"
            ]
          },
          "metadata": {
            "tags": []
          }
        },
        {
          "output_type": "display_data",
          "data": {
            "image/png": "[encoded data removed]",
            "text/plain": [
              "<PIL.Image.Image image mode=RGB size=367x462 at 0x7FE2D31A9F50>"
            ]
          },
          "metadata": {
            "tags": []
          }
        },
        {
          "output_type": "display_data",
          "data": {
            "image/png": "[encoded data removed]",
            "text/plain": [
              "<PIL.Image.Image image mode=RGB size=351x442 at 0x7FE2D31938D0>"
            ]
          },
          "metadata": {
            "tags": []
          }
        },
        {
          "output_type": "display_data",
          "data": {
            "image/png": "[encoded data removed]",
            "text/plain": [
              "<PIL.Image.Image image mode=RGB size=335x422 at 0x7FE2D31A9F50>"
            ]
          },
          "metadata": {
            "tags": []
          }
        },
        {
          "output_type": "display_data",
          "data": {
            "image/png": "[encoded data removed]",
            "text/plain": [
              "<PIL.Image.Image image mode=RGB size=319x402 at 0x7FE2D31938D0>"
            ]
          },
          "metadata": {
            "tags": []
          }
        },
        {
          "output_type": "display_data",
          "data": {
            "image/png": "[encoded data removed]",
            "text/plain": [
              "<PIL.Image.Image image mode=RGB size=303x381 at 0x7FE2D31A9F50>"
            ]
          },
          "metadata": {
            "tags": []
          }
        },
        {
          "output_type": "display_data",
          "data": {
            "image/png": "[encoded data removed]",
            "text/plain": [
              "<PIL.Image.Image image mode=RGB size=286x360 at 0x7FE2D317D2D0>"
            ]
          },
          "metadata": {
            "tags": []
          }
        },
        {
          "output_type": "display_data",
          "data": {
            "image/png": "[encoded data removed]",
            "text/plain": [
              "<PIL.Image.Image image mode=RGB size=270x340 at 0x7FE2D317D0D0>"
            ]
          },
          "metadata": {
            "tags": []
          }
        },
        {
          "output_type": "display_data",
          "data": {
            "image/png": "[encoded data removed]",
            "text/plain": [
              "<PIL.Image.Image image mode=RGB size=384x484 at 0x7FE2D31A9F90>"
            ]
          },
          "metadata": {
            "tags": []
          }
        },
        {
          "output_type": "display_data",
          "data": {
            "image/png": "[encoded data removed]",
            "text/plain": [
              "<PIL.Image.Image image mode=RGB size=308x308 at 0x7FE2D3193710>"
            ]
          },
          "metadata": {
            "tags": []
          }
        },
        {
          "output_type": "stream",
          "text": [
            "Reading reference image :  /content/offset.png\n",
            "Reading image to align :  /content/photos/1.png\n",
            "Estimated homography : \n",
            " [[-8.86292443e-01 -3.92104419e-02  1.94388356e+02]\n",
            " [-8.70655573e-01 -3.81535910e-02  1.90805281e+02]\n",
            " [-4.56324641e-03 -1.99922819e-04  1.00000000e+00]]\n"
          ],
          "name": "stdout"
        }
      ]
    },
    {
      "cell_type": "code",
      "metadata": {
        "id": "SB8lZfyw_o3V"
      },
      "source": [
        "import numpy as np\n",
        "import cv2\n",
        "\n",
        "# Read input image\n",
        "# img1 = cv2.imread('/content/content/train_output/10008.png')\n",
        "# img = cv2.imread('/content/test.png')\n",
        "# img2 = cv2.imread('/content/content/train_input/10008.png')\n",
        "img1 = cv2.imread('./corrected_image.png')\n",
        "img = cv2.imread('./test.png')\n",
        "img2 = cv2.imread('/content/content/train_input/10008.png')\n",
        "\n",
        "grid_rgb = cv2.cvtColor(img, cv2.COLOR_BGR2RGB)\n",
        "\n",
        "\n",
        "# Gel all pixels in the image - where BGR = (34, 33, 33), OpenCV colors order is BGR not RGB\n",
        "# yellow rooms\n",
        "gray = np.all(grid_rgb == (254, 223, 130), 2)\n",
        "gray += np.all(grid_rgb == (254, 224, 128), 2)\n",
        "gray += np.all(grid_rgb == (253, 223, 128), 2)\n",
        "\n",
        "\n",
        "# Convert logical matrix to uint8\n",
        "gray = gray.astype(np.uint8)*255\n",
        "\n",
        "# Find contours\n",
        "cnts = cv2.findContours(gray, cv2.RETR_EXTERNAL, cv2.CHAIN_APPROX_NONE)[-2]  # Use index [-2] to be compatible to OpenCV 3 and 4\n",
        "\n",
        "c = max(cnts, key=cv2.contourArea)\n",
        "\n",
        "for c in cnts:\n",
        "    x, y, w, h = cv2.boundingRect(c)\n",
        "\n",
        "    # Draw green rectangle for testing\n",
        "    cv2.rectangle(img, (x, y), (x+w, y+h), (0, 255, 0), thickness = 2)\n",
        "    cv2.rectangle(img2, (x, y), (x+w, y+h), (0, 255, 0), thickness = 2)\n",
        "    cv2.rectangle(img1, (x, y), (x+w, y+h), (0, 255, 0), thickness = 2)\n",
        "\n",
        "# Show result\n",
        "cv2_imshow(gray)\n",
        "cv2_imshow(img)\n",
        "cv2_imshow(img2)\n",
        "cv2_imshow(img1)\n",
        "\n",
        " \n",
        "cv2.waitKey(0)\n",
        "cv2.destroyAllWindows()"
      ],
      "execution_count": null,
      "outputs": []
    },
    {
      "cell_type": "code",
      "metadata": {
        "id": "40LMwspP_pLG"
      },
      "source": [
        ""
      ],
      "execution_count": null,
      "outputs": []
    },
    {
      "cell_type": "code",
      "metadata": {
        "colab": {
          "base_uri": "https://localhost:8080/",
          "height": 625
        },
        "id": "3K2kg8_y9wU2",
        "outputId": "2c1e8faf-5599-4143-820f-007a736388b7"
      },
      "source": [
        "from image_registration import cross_correlation_shifts\n",
        "from skimage.feature import register_translation\n",
        "\n",
        "shifted, error, diffphase = register_translation(image, offset_image, 100)\n",
        "xoff = -shifted[1]\n",
        "yoff = -shifted[0]\n",
        "\n",
        "\n",
        "print(\"Pixels shifted by: \", xoff, yoff)\n",
        "\n",
        "\n",
        "from scipy.ndimage import shift\n",
        "corrected_image = shift(offset_image, shift=(xoff,yoff), mode='constant')\n",
        "\n",
        "from matplotlib import pyplot as plt\n",
        "fig = plt.figure(figsize=(10, 10))\n",
        "ax1 = fig.add_subplot(2,2,1)\n",
        "ax1.imshow(image, cmap='gray')\n",
        "ax1.title.set_text('Input Image')\n",
        "ax2 = fig.add_subplot(2,2,2)\n",
        "ax2.imshow(offset_image, cmap='gray')\n",
        "ax2.title.set_text('Offset image')\n",
        "ax3 = fig.add_subplot(2,2,3)\n",
        "ax3.imshow(corrected_image, cmap='gray')\n",
        "ax3.title.set_text('Corrected')\n",
        "plt.show()"
      ],
      "execution_count": 7,
      "outputs": [
        {
          "output_type": "stream",
          "text": [
            "Pixels shifted by:  12.66 20.85\n"
          ],
          "name": "stdout"
        },
        {
          "output_type": "display_data",
          "data": {
            "image/png": "[encoded data removed]",
            "text/plain": [
              "<Figure size 720x720 with 3 Axes>"
            ]
          },
          "metadata": {
            "tags": [],
            "needs_background": "light"
          }
        }
      ]
    },
    {
      "cell_type": "code",
      "metadata": {
        "colab": {
          "base_uri": "https://localhost:8080/",
          "height": 1000
        },
        "id": "ojWR205z-HJy",
        "outputId": "c5d03aa9-ea5a-4e59-fe76-b9950070d6bc"
      },
      "source": [
        "# Only ORB\n",
        "from __future__ import print_function\n",
        "import numpy as np\n",
        "import argparse\n",
        "import imutils\n",
        "import glob\n",
        "import cv2\n",
        "import os\n",
        "import argparse\n",
        "\n",
        "\n",
        "MAX_FEATURES = 1000#500\n",
        "GOOD_MATCH_PERCENT = 0.15\n",
        "\n",
        "\n",
        "\n",
        "path_thermal = image1\n",
        "# path_thermal = './test.png'\n",
        "path_black = image2\n",
        "# path_thermal = './input.png'\n",
        "# path_black = './output.png'\n",
        "\n",
        "show = True\n",
        "\n",
        "# put the thermal image in a folder named thermal and the visible image in a folder named visible with the same name\n",
        "# load the image image, convert it to grayscale, and detect edges\n",
        "template = cv2.imread(path_thermal)\n",
        "template = cv2.cvtColor(template, cv2.COLOR_BGR2GRAY)\n",
        "template = cv2.Canny(template, 50, 200)\n",
        "(tH, tW) = template.shape[:2]\n",
        "cv2_imshow(template)\n",
        "\n",
        "# loop over the images to find the template in\n",
        "\n",
        "# load the image, convert it to grayscale, and initialize the\n",
        "# bookkeeping variable to keep track of the matched region\n",
        "image = cv2.imread(path_black)\n",
        "gray = cv2.cvtColor(image, cv2.COLOR_BGR2GRAY)\n",
        "found = None\n",
        "\n",
        "# loop over the scales of the image\n",
        "for scale in np.linspace(0.2, 1.0, 20)[::-1]:\n",
        "    # resize the image according to the scale, and keep track\n",
        "    # of the ratio of the resizing\n",
        "    resized = imutils.resize(gray, width = int(gray.shape[1] * scale))\n",
        "    r = gray.shape[1] / float(resized.shape[1])\n",
        "\n",
        "    # if the resized image is smaller than the template, then break\n",
        "    # from the loop\n",
        "    if resized.shape[0] < tH or resized.shape[1] < tW:\n",
        "        break\n",
        "\n",
        "    # detect edges in the resized, grayscale image and apply template\n",
        "    # matching to find the template in the image\n",
        "    edged = cv2.Canny(resized, 50, 200)\n",
        "    result = cv2.matchTemplate(edged, template, cv2.TM_CCOEFF)\n",
        "    (_, maxVal, _, maxLoc) = cv2.minMaxLoc(result)\n",
        "\n",
        "    # check to see if the iteration should be visualized\n",
        "    if show:\n",
        "        # draw a bounding box around the detected region\n",
        "        clone = np.dstack([edged, edged, edged])\n",
        "        cv2.rectangle(clone, (maxLoc[0], maxLoc[1]),\n",
        "            (maxLoc[0] + tW, maxLoc[1] + tH), (0, 0, 255), 2)\n",
        "        cv2_imshow(clone)\n",
        "        cv2.waitKey(0)\n",
        "\n",
        "    # if we have found a new maximum correlation value, then update\n",
        "    # the bookkeeping variable\n",
        "    if found is None or maxVal > found[0]:\n",
        "        found = (maxVal, maxLoc, r)\n",
        "\n",
        "# unpack the bookkeeping variable and compute the (x, y) coordinates\n",
        "# of the bounding box based on the resized ratio\n",
        "(_, maxLoc, r) = found\n",
        "(startX, startY) = (int(maxLoc[0] * r), int(maxLoc[1] * r))\n",
        "(endX, endY) = (int((maxLoc[0] + tW) * r), int((maxLoc[1] + tH) * r))\n",
        "\n",
        "# draw a bounding box around the detected result and display the image\n",
        "cv2.rectangle(image, (startX, startY), (endX, endY), (0, 0, 255), 2)\n",
        "crop_img = image[startY:endY, startX:endX]\n",
        "cv2_imshow(image)\n",
        "cv2_imshow(crop_img)\n",
        "\n",
        "name = path_thermal#\"thermal/\"+args[\"image\"]\n",
        "thermal_image = cv2.imread(name, cv2.IMREAD_COLOR)\n",
        "\n",
        "#cropping out the matched part of the thermal image\n",
        "crop_img = cv2.resize(crop_img, (thermal_image.shape[1], thermal_image.shape[0]))\n",
        "\n",
        "#cropped image will be saved in a folder named output\n",
        "cv2.imwrite(\"test.png\",crop_img)\n",
        "\n",
        "#both images are concatenated and saved in a folder named results\n",
        "final = np.concatenate((crop_img, thermal_image), axis = 1)\n",
        "cv2.imwrite(\"result.png\",final)\n",
        "\n",
        "cv2.waitKey(0)\n",
        "# Registration\n",
        "# Read reference image\n",
        "refFilename = path_thermal\n",
        "print(\"Reading reference image : \", refFilename)\n",
        "imReference = cv2.imread(refFilename, cv2.IMREAD_COLOR)\n",
        "\n",
        "# Read image to be aligned\n",
        "imFilename = path_black\n",
        "print(\"Reading image to align : \", imFilename);  \n",
        "im = cv2.imread(imFilename, cv2.IMREAD_COLOR)\n",
        "file_name=\"10008.png\"\n",
        "imReg, h = alignImages(im,imReference,file_name)\n",
        "print(\"Estimated homography : \\n\",  h)"
      ],
      "execution_count": 15,
      "outputs": [
        {
          "output_type": "display_data",
          "data": {
            "image/png": "[encoded data removed]",
            "text/plain": [
              "<PIL.Image.Image image mode=L size=384x484 at 0x7FE2D3501690>"
            ]
          },
          "metadata": {
            "tags": []
          }
        },
        {
          "output_type": "display_data",
          "data": {
            "image/png": "[encoded data removed]",
            "text/plain": [
              "<PIL.Image.Image image mode=RGB size=384x484 at 0x7FE2D3501A90>"
            ]
          },
          "metadata": {
            "tags": []
          }
        },
        {
          "output_type": "display_data",
          "data": {
            "image/png": "[encoded data removed]",
            "text/plain": [
              "<PIL.Image.Image image mode=RGB size=384x484 at 0x7FE2D3501C10>"
            ]
          },
          "metadata": {
            "tags": []
          }
        },
        {
          "output_type": "display_data",
          "data": {
            "image/png": "[encoded data removed]",
            "text/plain": [
              "<PIL.Image.Image image mode=RGB size=384x484 at 0x7FE2D3501A90>"
            ]
          },
          "metadata": {
            "tags": []
          }
        },
        {
          "output_type": "stream",
          "text": [
            "Reading reference image :  /content/photos/1.png\n",
            "Reading image to align :  /content/photos/1.png\n"
          ],
          "name": "stdout"
        },
        {
          "output_type": "error",
          "ename": "NameError",
          "evalue": "ignored",
          "traceback": [
            "\u001b[0;31m---------------------------------------------------------------------------\u001b[0m",
            "\u001b[0;31mNameError\u001b[0m                                 Traceback (most recent call last)",
            "\u001b[0;32m<ipython-input-15-6af5f3924ed7>\u001b[0m in \u001b[0;36m<module>\u001b[0;34m()\u001b[0m\n\u001b[1;32m    108\u001b[0m \u001b[0mim\u001b[0m \u001b[0;34m=\u001b[0m \u001b[0mcv2\u001b[0m\u001b[0;34m.\u001b[0m\u001b[0mimread\u001b[0m\u001b[0;34m(\u001b[0m\u001b[0mimFilename\u001b[0m\u001b[0;34m,\u001b[0m \u001b[0mcv2\u001b[0m\u001b[0;34m.\u001b[0m\u001b[0mIMREAD_COLOR\u001b[0m\u001b[0;34m)\u001b[0m\u001b[0;34m\u001b[0m\u001b[0;34m\u001b[0m\u001b[0m\n\u001b[1;32m    109\u001b[0m \u001b[0mfile_name\u001b[0m\u001b[0;34m=\u001b[0m\u001b[0;34m\"10008.png\"\u001b[0m\u001b[0;34m\u001b[0m\u001b[0;34m\u001b[0m\u001b[0m\n\u001b[0;32m--> 110\u001b[0;31m \u001b[0mimReg\u001b[0m\u001b[0;34m,\u001b[0m \u001b[0mh\u001b[0m \u001b[0;34m=\u001b[0m \u001b[0malignImages\u001b[0m\u001b[0;34m(\u001b[0m\u001b[0mim\u001b[0m\u001b[0;34m,\u001b[0m\u001b[0mimReference\u001b[0m\u001b[0;34m,\u001b[0m\u001b[0mfile_name\u001b[0m\u001b[0;34m)\u001b[0m\u001b[0;34m\u001b[0m\u001b[0;34m\u001b[0m\u001b[0m\n\u001b[0m\u001b[1;32m    111\u001b[0m \u001b[0mprint\u001b[0m\u001b[0;34m(\u001b[0m\u001b[0;34m\"Estimated homography : \\n\"\u001b[0m\u001b[0;34m,\u001b[0m  \u001b[0mh\u001b[0m\u001b[0;34m)\u001b[0m\u001b[0;34m\u001b[0m\u001b[0;34m\u001b[0m\u001b[0m\n",
            "\u001b[0;31mNameError\u001b[0m: name 'alignImages' is not defined"
          ]
        }
      ]
    },
    {
      "cell_type": "code",
      "metadata": {
        "id": "P1-ozVsHBX8N"
      },
      "source": [
        "import numpy as np\n",
        "import cv2\n",
        "\n",
        "# Read input image\n",
        "img1 = cv2.imread('/content/content/train_output/10008.png')\n",
        "img = cv2.imread('/content/test.png')\n",
        "img2 = cv2.imread('/content/content/train_input/10008.png')\n",
        "# img1 = cv2.imread('./output.png')\n",
        "# img = cv2.imread('/content/test.png')\n",
        "# img2 = cv2.imread('./input.png)\n",
        "\n",
        "grid_rgb = cv2.cvtColor(img, cv2.COLOR_BGR2RGB)\n",
        "\n",
        "\n",
        "# Gel all pixels in the image - where BGR = (34, 33, 33), OpenCV colors order is BGR not RGB\n",
        "# yellow rooms\n",
        "gray = np.all(grid_rgb == (254, 223, 130), 2)\n",
        "gray += np.all(grid_rgb == (254, 224, 128), 2)\n",
        "gray += np.all(grid_rgb == (253, 223, 128), 2)\n",
        "# clay\n",
        "# gray += np.all(grid_rgb == (193, 254, 255), 2)\n",
        "# gray += np.all(grid_rgb == (201, 233, 240), 2)  # gray is a logical matrix with True where BGR = (34, 33, 33).\n",
        "\n",
        "# gray += np.all(grid_rgb == (254, 224, 226), 2)\n",
        "# gray += np.all(grid_rgb == (247, 70, 70), 2)\n",
        "# gray += np.all(grid_rgb == (225, 255, 193), 2)\n",
        "# gray += np.all(grid_rgb == (34, 80, 230), 2)\n",
        "# gray += np.all(grid_rgb == (114, 59, 12), 2)\n",
        "# gray += np.all(grid_rgb == (247, 158, 98), 2)\n",
        "# gray += np.all(grid_rgb == (192, 192, 225), 2)\n",
        "# gray += np.all(grid_rgb == (193, 254, 255), 2)\n",
        "# gray += np.all(grid_rgb == (193, 192, 224), 2)\n",
        "# gray += np.all(grid_rgb == (121, 63, 13), 2)\n",
        "# gray += np.all(grid_rgb == (248, 158, 98), 2)\n",
        "# gray += np.all(grid_rgb == (226, 236, 189), 2)\n",
        "# gray += np.all(grid_rgb == (226, 236, 189), 2)\n",
        "# gray += np.all(grid_rgb == (238, 71, 72), 2)\n",
        "# gray += np.all(grid_rgb == (254, 224, 128), 2)\n",
        "# gray += np.all(grid_rgb == (80, 94, 107), 2)\n",
        "# gray += np.all(grid_rgb == (255, 160, 90), 2)\n",
        "\n",
        "\n",
        "# Convert logical matrix to uint8\n",
        "gray = gray.astype(np.uint8)*255\n",
        "\n",
        "# Find contours\n",
        "cnts = cv2.findContours(gray, cv2.RETR_EXTERNAL, cv2.CHAIN_APPROX_NONE)[-2]  # Use index [-2] to be compatible to OpenCV 3 and 4\n",
        "\n",
        "c = max(cnts, key=cv2.contourArea)\n",
        "\n",
        "for c in cnts:\n",
        "    x, y, w, h = cv2.boundingRect(c)\n",
        "\n",
        "    # Draw green rectangle for testing\n",
        "    cv2.rectangle(img, (x, y), (x+w, y+h), (0, 255, 0), thickness = 2)\n",
        "    cv2.rectangle(img2, (x, y), (x+w, y+h), (0, 255, 0), thickness = 2)\n",
        "    cv2.rectangle(img1, (x, y), (x+w, y+h), (0, 255, 0), thickness = 2)\n",
        "\n",
        "# Show result\n",
        "cv2_imshow(gray)\n",
        "cv2_imshow(img)\n",
        "cv2_imshow(img2)\n",
        "cv2_imshow(img1)\n",
        "\n",
        " \n",
        "cv2.waitKey(0)\n",
        "cv2.destroyAllWindows()"
      ],
      "execution_count": null,
      "outputs": []
    },
    {
      "cell_type": "markdown",
      "metadata": {
        "id": "zuPBd4rzl0l7"
      },
      "source": [
        "## check if image are same"
      ]
    },
    {
      "cell_type": "code",
      "metadata": {
        "id": "su27NkvIBeKq"
      },
      "source": [
        "# check \n",
        "import cv2\n",
        "import numpy as np\n",
        "original = cv2.imread(file1)\n",
        "duplicate = cv2.imread(file1)\n",
        "\n",
        "if original.shape == duplicate.shape:\n",
        "    print(\"The images have same size and channels\")\n",
        "difference = cv2.subtract(original, duplicate)\n",
        "print(difference.sum()/original.sum())\n",
        "b, g, r = cv2.split(difference)\n",
        "if cv2.countNonZero(b) == 0 and cv2.countNonZero(g) == 0 and cv2.countNonZero(r) == 0:\n",
        "    print(\"The images are completely Equal\")    \n",
        "\n",
        "cv2_imshow(original)\n",
        "cv2_imshow(duplicate)\n",
        "\n",
        "cv2.waitKey(0)\n",
        "cv2.destroyAllWindows()"
      ],
      "execution_count": null,
      "outputs": []
    },
    {
      "cell_type": "code",
      "metadata": {
        "id": "xCmJR64kmHS4"
      },
      "source": [
        ""
      ],
      "execution_count": null,
      "outputs": []
    },
    {
      "cell_type": "markdown",
      "metadata": {
        "id": "0QMtrY6vcRE4"
      },
      "source": [
        "# Image Filtering final"
      ]
    },
    {
      "cell_type": "code",
      "metadata": {
        "id": "aMCmHW-Mcwl5"
      },
      "source": [
        "!pip install image_registration"
      ],
      "execution_count": null,
      "outputs": []
    },
    {
      "cell_type": "code",
      "metadata": {
        "id": "ev-Z7RmdcU7D"
      },
      "source": [
        "import cv2\n",
        "import numpy as np\n",
        "# import matplotlib.pyplot as plt\n",
        "from google.colab.patches import cv2_imshow\n",
        "import os\n",
        "import PIL\n",
        "from PIL import Image\n",
        "from image_registration import chi2_shift\n",
        "from scipy.ndimage import shift\n",
        "\n",
        "def resize_image(image):\n",
        "    return cv2.resize(image, (256, 256), interpolation = cv2.INTER_CUBIC)\n",
        "\n",
        "def rotate_image(image):\n",
        "    return cv2.rotate(image, cv2.cv2.ROTATE_90_CLOCKWISE)\n",
        "\n",
        "def color_it_black(image):\n",
        "    np_image = np.array(image)\n",
        "    for i in range(np_image.shape[0]):\n",
        "        for j in range(np_image.shape[1]):\n",
        "            # np_image[i,j] = 0 if np_image[i,j] < 200 else 255\n",
        "            np_image[i,j] = 255 if np_image[i,j] < 200 else 0\n",
        "    return np_image\n",
        "\n",
        "def masking(image):\n",
        "    np_image = np.array(image)\n",
        "    for i in range(np_image.shape[0]):\n",
        "        for j in range(np_image.shape[1]):\n",
        "            np_image[i,j] = 0 if np_image[i,j] == 255 else 1\n",
        "    return np_image\n",
        "\n",
        "def white_to_black(image):\n",
        "    np_image = np.array(image)\n",
        "    for i in range(np_image.shape[0]):\n",
        "        for j in range(np_image.shape[1]):\n",
        "            np_image[i,j] = 255 if np_image[i,j] == 0 else 0\n",
        "    return np_image\n"
      ],
      "execution_count": 129,
      "outputs": []
    },
    {
      "cell_type": "code",
      "metadata": {
        "colab": {
          "base_uri": "https://localhost:8080/",
          "height": 772
        },
        "id": "WUpdOApycnHR",
        "outputId": "42bcd8cb-dbb1-443f-a974-3aff785acbf4"
      },
      "source": [
        "#Method 1: chi squared shift\n",
        "\n",
        "generated_path = \"/content/photos/4.png\"\n",
        "input_imgshape = \"/content/photos/5.png\"\n",
        "\n",
        "\n",
        "\n",
        "generated_image = cv2.imread(generated_path)\n",
        "# Rotate offset_image\n",
        "generated_image = rotate_image(generated_image)\n",
        "image = cv2.cvtColor(generated_image, cv2.COLOR_BGR2GRAY)\n",
        "w, h = image.shape\n",
        "\n",
        "offset_image = cv2.imread(input_imgshape)\n",
        "offset_image = cv2.cvtColor(offset_image, cv2.COLOR_BGR2GRAY)\n",
        "offset_image = cv2.resize(offset_image, (h,w)) \n",
        "\n",
        "# Resize both images to same shape\n",
        "offset_image = resize_image(offset_image)\n",
        "image = resize_image(image)\n",
        "\n",
        "\n",
        "# conver to complete black\n",
        "offset_image = color_it_black(offset_image)\n",
        "image = color_it_black(image)\n",
        "# print(image.shape, offset_image.shape)\n",
        "\n",
        "#Method 1: chi squared shift\n",
        "#Find the offsets between image 1 and image 2 using the DFT upsampling method\n",
        "noise=0.1\n",
        "xoff, yoff, exoff, eyoff = chi2_shift(image, offset_image, noise, \n",
        "                                      return_error=True, upsample_factor='auto')\n",
        "\n",
        "# print(\"Pixels shifted by: \", xoff, yoff)\n",
        "\n",
        "corrected_image = shift(offset_image, shift=(xoff,yoff), mode='constant')\n",
        "\n",
        "from matplotlib import pyplot as plt\n",
        "fig = plt.figure(figsize=(10, 10))\n",
        "ax1 = fig.add_subplot(2,2,1)\n",
        "ax1.imshow(image, cmap='gray')\n",
        "ax1.title.set_text('Input Image')\n",
        "ax2 = fig.add_subplot(2,2,2)\n",
        "ax2.imshow(offset_image, cmap='gray')\n",
        "ax2.title.set_text('Offset image')\n",
        "ax3 = fig.add_subplot(2,2,3)\n",
        "ax3.imshow(corrected_image, cmap='gray')\n",
        "ax3.title.set_text('Corrected')\n",
        "plt.show()"
      ],
      "execution_count": 166,
      "outputs": [
        {
          "output_type": "stream",
          "text": [
            "/usr/local/lib/python3.7/dist-packages/image_registration/fft_tools/convolve_nd.py:269: FutureWarning: Using a non-tuple sequence for multidimensional indexing is deprecated; use `arr[tuple(seq)]` instead of `arr[seq]`. In the future this will be interpreted as an array index, `arr[np.array(seq)]`, which will result either in an error or a different result.\n",
            "  bigarray[arrayslices] = array\n",
            "/usr/local/lib/python3.7/dist-packages/image_registration/fft_tools/convolve_nd.py:270: FutureWarning: Using a non-tuple sequence for multidimensional indexing is deprecated; use `arr[tuple(seq)]` instead of `arr[seq]`. In the future this will be interpreted as an array index, `arr[np.array(seq)]`, which will result either in an error or a different result.\n",
            "  bigkernel[kernslices] = kernel\n",
            "/usr/local/lib/python3.7/dist-packages/image_registration/fft_tools/convolve_nd.py:325: FutureWarning: Using a non-tuple sequence for multidimensional indexing is deprecated; use `arr[tuple(seq)]` instead of `arr[seq]`. In the future this will be interpreted as an array index, `arr[np.array(seq)]`, which will result either in an error or a different result.\n",
            "  result = rifft[arrayslices].real\n",
            "/usr/local/lib/python3.7/dist-packages/image_registration/fft_tools/zoom.py:101: FutureWarning: Using a non-tuple sequence for multidimensional indexing is deprecated; use `arr[tuple(seq)]` instead of `arr[seq]`. In the future this will be interpreted as an array index, `arr[np.array(seq)]`, which will result either in an error or a different result.\n",
            "  outarr[ii] = outarr_d[dims]\n"
          ],
          "name": "stderr"
        },
        {
          "output_type": "display_data",
          "data": {
            "image/png": "[encoded data removed]",
            "text/plain": [
              "<Figure size 720x720 with 3 Axes>"
            ]
          },
          "metadata": {
            "tags": [],
            "needs_background": "light"
          }
        }
      ]
    },
    {
      "cell_type": "code",
      "metadata": {
        "colab": {
          "base_uri": "https://localhost:8080/",
          "height": 565
        },
        "id": "StPFcntXcpwE",
        "outputId": "656be982-89a0-4973-baa2-7c7d3b52a23a"
      },
      "source": [
        "# check \n",
        "import cv2\n",
        "import numpy as np\n",
        "original = white_to_black(image) #cv2.imread(file1)\n",
        "duplicate = white_to_black(corrected_image)\n",
        "\n",
        "if original.shape == duplicate.shape:\n",
        "    print(\"The images have same size and channels\")\n",
        "difference = cv2.subtract(original, duplicate)\n",
        "# Inverse difference\n",
        "difference_2 = cv2.subtract(original, duplicate)\n",
        "# Maching Score\n",
        "score1 = (1 - difference.sum()/original.sum())*100\n",
        "score2 = (1 - difference_2.sum()/duplicate.sum())*100\n",
        "print(score1,score2)\n",
        "\n",
        "dif = cv2.split(difference)[0]\n",
        "if cv2.countNonZero(dif) == 0:\n",
        "    print(\"The images are completely Equal\")    \n",
        "\n",
        "cv2_imshow(original)\n",
        "cv2_imshow(duplicate)\n",
        "\n",
        "cv2.waitKey(0)\n",
        "cv2.destroyAllWindows()"
      ],
      "execution_count": 167,
      "outputs": [
        {
          "output_type": "stream",
          "text": [
            "The images have same size and channels\n",
            "77.20455475577168 71.30519106639595\n"
          ],
          "name": "stdout"
        },
        {
          "output_type": "display_data",
          "data": {
            "image/png": "[encoded data removed]",
            "text/plain": [
              "<PIL.Image.Image image mode=L size=256x256 at 0x7F3F20150D90>"
            ]
          },
          "metadata": {
            "tags": []
          }
        },
        {
          "output_type": "display_data",
          "data": {
            "image/png": "[encoded data removed]",
            "text/plain": [
              "<PIL.Image.Image image mode=L size=256x256 at 0x7F3F1FF25C10>"
            ]
          },
          "metadata": {
            "tags": []
          }
        }
      ]
    },
    {
      "cell_type": "code",
      "metadata": {
        "colab": {
          "base_uri": "https://localhost:8080/"
        },
        "id": "t9X24NnsdqTg",
        "outputId": "c73ef82b-b7c0-47c4-f4a9-3547e03b72a2"
      },
      "source": [
        "np.array(cv2.split(difference)[0]).shape"
      ],
      "execution_count": 168,
      "outputs": [
        {
          "output_type": "execute_result",
          "data": {
            "text/plain": [
              "(256, 256)"
            ]
          },
          "metadata": {
            "tags": []
          },
          "execution_count": 168
        }
      ]
    },
    {
      "cell_type": "code",
      "metadata": {
        "colab": {
          "base_uri": "https://localhost:8080/",
          "height": 273
        },
        "id": "uvuIpA4Od6q3",
        "outputId": "71ad9434-16c2-482f-8bf3-ce302ad91f61"
      },
      "source": [
        "# Output\n",
        "# generated_image = cv2.cvtColor(generated_image, cv2.COLOR_BGR2RGB)\n",
        "generated_image = resize_image(generated_image)\n",
        "\n",
        "duplicate = masking(duplicate)\n",
        "for i in range(3):\n",
        "    generated_image[:,:,i] = duplicate * generated_image[:,:,i]\n",
        "cv2_imshow(generated_image)\n",
        "\n"
      ],
      "execution_count": 169,
      "outputs": [
        {
          "output_type": "display_data",
          "data": {
            "image/png": "[encoded data removed]",
            "text/plain": [
              "<PIL.Image.Image image mode=RGB size=256x256 at 0x7F3F1FE16D50>"
            ]
          },
          "metadata": {
            "tags": []
          }
        }
      ]
    },
    {
      "cell_type": "code",
      "metadata": {
        "colab": {
          "base_uri": "https://localhost:8080/"
        },
        "id": "_CnivMH38O-b",
        "outputId": "091f2b13-be50-489d-dcd9-e0e5d4460be5"
      },
      "source": [
        "generated_image.max(), duplicate.max()"
      ],
      "execution_count": 96,
      "outputs": [
        {
          "output_type": "execute_result",
          "data": {
            "text/plain": [
              "(255, 1)"
            ]
          },
          "metadata": {
            "tags": []
          },
          "execution_count": 96
        }
      ]
    },
    {
      "cell_type": "code",
      "metadata": {
        "id": "D8O8vqEy8pNa"
      },
      "source": [
        "from scipy.ndimage import shift\n",
        "\n",
        "def fit_boundary(generated_image, boundary):\n",
        "    final_image = None\n",
        "    max_score = 70\n",
        "    for iter in range(4):\n",
        "        # Rotate offset_image\n",
        "        generated_image = rotate_image(generated_image)\n",
        "        image = cv2.cvtColor(generated_image, cv2.COLOR_BGR2GRAY)\n",
        "        w, h = image.shape\n",
        "\n",
        "        # offset_image = cv2.imread(input_imgshape)\n",
        "        offset_image = boundary\n",
        "        offset_image = cv2.cvtColor(offset_image, cv2.COLOR_BGR2GRAY)\n",
        "        offset_image = cv2.resize(offset_image, (h,w)) \n",
        "\n",
        "        # Resize both images to same shape\n",
        "        offset_image = resize_image(offset_image)\n",
        "        image = resize_image(image)\n",
        "\n",
        "\n",
        "        # conver to complete black\n",
        "        offset_image = color_it_black(offset_image)\n",
        "        image = color_it_black(image)\n",
        "        # print(image.shape, offset_image.shape)\n",
        "\n",
        "        #Method 1: chi squared shift\n",
        "        #Find the offsets between image 1 and image 2 using the DFT upsampling method\n",
        "        noise=0.1\n",
        "        xoff, yoff, exoff, eyoff = chi2_shift(image, offset_image, noise, \n",
        "                                            return_error=True, upsample_factor='auto')\n",
        "\n",
        "        # print(\"Pixels shifted by: \", xoff, yoff)\n",
        "\n",
        "        corrected_image = shift(offset_image, shift=(xoff,yoff), mode='constant')\n",
        "\n",
        "\n",
        "        original = white_to_black(image) #cv2.imread(file1)\n",
        "        duplicate = white_to_black(corrected_image)\n",
        "        difference = cv2.subtract(original, duplicate)\n",
        "        # Inverse difference\n",
        "        difference_2 = cv2.subtract(original, duplicate)\n",
        "        # Maching Score\n",
        "        score = ((1 - difference.sum()/original.sum()) + (1 - difference_2.sum()/duplicate.sum()))*100/2\n",
        "        if score > max_score:\n",
        "            max_score = score\n",
        "            final_image = generated_image\n",
        "\n",
        "        dif = cv2.split(difference)[0]\n",
        "        if cv2.countNonZero(dif) == 0:\n",
        "            print(\"The images are completely Equal\")    \n",
        "\n",
        "        cv2_imshow(original)\n",
        "        cv2_imshow(duplicate)\n",
        "\n",
        "        cv2.waitKey(0)\n",
        "        cv2.destroyAllWindows()\n",
        "\n",
        "        final_image = resize_image(final_image)\n",
        "        duplicate = masking(duplicate)\n",
        "        for i in range(3):\n",
        "            final_image[:,:,i] = duplicate * final_image[:,:,i]\n",
        "        cv2_imshow(final_image)\n",
        "\n",
        "        return max_score > 70, final_image\n",
        "\n"
      ],
      "execution_count": 135,
      "outputs": []
    },
    {
      "cell_type": "code",
      "metadata": {
        "id": "WcKx-JqNEhc5"
      },
      "source": [
        "generated_path = \"/content/photos/3.png\"\n",
        "input_imgshape = \"/content/photos/3.png\"\n",
        "\n",
        "generated_image = cv2.imread(generated_path)\n",
        "boundary = cv2.imread(input_imgshape)\n",
        "\n",
        "check, final_image = fit_boundary(generated_image, boundary)"
      ],
      "execution_count": null,
      "outputs": []
    },
    {
      "cell_type": "code",
      "metadata": {
        "id": "2qA28LpkEqRL"
      },
      "source": [
        ""
      ],
      "execution_count": null,
      "outputs": []
    }
  ]
}