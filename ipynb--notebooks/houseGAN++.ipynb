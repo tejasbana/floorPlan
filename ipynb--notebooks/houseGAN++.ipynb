{
  "nbformat": 4,
  "nbformat_minor": 0,
  "metadata": {
    "colab": {
      "name": "houseGAN++.ipynb",
      "provenance": [],
      "collapsed_sections": [
        "ADBIURtaYEP5"
      ]
    },
    "kernelspec": {
      "name": "python3",
      "display_name": "Python 3"
    },
    "language_info": {
      "name": "python"
    }
  },
  "cells": [
    {
      "cell_type": "code",
      "metadata": {
        "id": "xBcciQ5mlRxh"
      },
      "source": [
        "!gdown --id 12dG-TqDZz-BLEdlJydVfPSmhdIksjk5y\n",
        "!gdown --id 1QEtkeZOsNNy1WJeB1i3kIiGfpbzDWhVS"
      ],
      "execution_count": null,
      "outputs": []
    },
    {
      "cell_type": "code",
      "metadata": {
        "id": "pqZR0EnBmfc7"
      },
      "source": [
        "!git clone https://github.com/ennauata/houseganpp.git"
      ],
      "execution_count": null,
      "outputs": []
    },
    {
      "cell_type": "code",
      "metadata": {
        "id": "yy0jgYaDnRF6"
      },
      "source": [
        "# Dataset\n",
        "!gdown --id 13oBvXTX29VtUbjAZ__CRsc6xoppJEVyE\n",
        "get_ipython().system_raw(\"unrar x dataset.rar\")"
      ],
      "execution_count": null,
      "outputs": []
    },
    {
      "cell_type": "code",
      "metadata": {
        "id": "whgZeRZIoGVY"
      },
      "source": [
        "# graphviz is installed already, but need lib too\n",
        "!apt install libgraphviz-dev\n",
        "!pip install pygraphviz"
      ],
      "execution_count": null,
      "outputs": []
    },
    {
      "cell_type": "code",
      "metadata": {
        "id": "_oivLmSCoMnn"
      },
      "source": [
        "!pip install webcolors\n",
        "!pip install svgwrite"
      ],
      "execution_count": null,
      "outputs": []
    },
    {
      "cell_type": "code",
      "metadata": {
        "colab": {
          "base_uri": "https://localhost:8080/"
        },
        "id": "K-oGyQM1ntd5",
        "outputId": "67883f8b-4f01-4b49-822c-d78c0c9f569f"
      },
      "source": [
        "%cd houseganpp"
      ],
      "execution_count": null,
      "outputs": [
        {
          "output_type": "stream",
          "text": [
            "/content/houseganpp\n"
          ],
          "name": "stdout"
        }
      ]
    },
    {
      "cell_type": "code",
      "metadata": {
        "id": "EWQ7ezfSnXIt"
      },
      "source": [
        "# dependencies\n",
        "!pip install -r requirements.txt"
      ],
      "execution_count": null,
      "outputs": []
    },
    {
      "cell_type": "code",
      "metadata": {
        "id": "g6Cs62bkteRr"
      },
      "source": [
        "#Replace sample_list from this\n",
        "'''\n",
        "./data/json/45012.json\n",
        "./data/json/45161.json\n",
        "./data/json/36233.json\n",
        "./data/json/19307.json\n",
        "./data/json/7513.json\n",
        "./data/json/18477.jsond\n",
        "'''"
      ],
      "execution_count": null,
      "outputs": []
    },
    {
      "cell_type": "code",
      "metadata": {
        "id": "z7IdDVzgn0Hw"
      },
      "source": [
        "!python test.py"
      ],
      "execution_count": null,
      "outputs": []
    },
    {
      "cell_type": "code",
      "metadata": {
        "colab": {
          "base_uri": "https://localhost:8080/"
        },
        "id": "7xNSJedG7amR",
        "outputId": "960955a9-1dcf-47fa-9454-275368a3432a"
      },
      "source": [
        "!gdown --id 1vU0KCE_qh-ynhBBOdpF1VGE7tFsMmi39"
      ],
      "execution_count": null,
      "outputs": [
        {
          "output_type": "stream",
          "text": [
            "Downloading...\n",
            "From: https://drive.google.com/uc?id=1vU0KCE_qh-ynhBBOdpF1VGE7tFsMmi39\n",
            "To: /content/houseganpp/housegan_clean_data.npy\n",
            "288MB [00:03, 92.5MB/s]\n"
          ],
          "name": "stdout"
        }
      ]
    },
    {
      "cell_type": "code",
      "metadata": {
        "colab": {
          "base_uri": "https://localhost:8080/"
        },
        "id": "3NH6ftCDYJIH",
        "outputId": "64f3781f-8981-4389-a543-bd44a2d7b904"
      },
      "source": [
        "!python train.py --exp_folder=\"./\""
      ],
      "execution_count": null,
      "outputs": [
        {
          "output_type": "stream",
          "text": [
            "Traceback (most recent call last):\n",
            "  File \"train.py\", line 90, in <module>\n",
            "    fp_dataset_train = FloorplanGraphDataset(opt.data_path, transforms.Normalize(mean=[0.5], std=[0.5]), target_set=opt.target_set)\n",
            "  File \"/content/houseganpp/dataset/floorplan_dataset_maps_functional_high_res.py\", line 1214, in __init__\n",
            "    min_N = sets[self.target_set][0]\n",
            "KeyError: 8\n"
          ],
          "name": "stdout"
        }
      ]
    },
    {
      "cell_type": "code",
      "metadata": {
        "id": "9SnlBjq8YI_L"
      },
      "source": [
        ""
      ],
      "execution_count": null,
      "outputs": []
    },
    {
      "cell_type": "markdown",
      "metadata": {
        "id": "ADBIURtaYEP5"
      },
      "source": [
        "# Data Analyses"
      ]
    },
    {
      "cell_type": "code",
      "metadata": {
        "id": "rsYtSWICoCAJ"
      },
      "source": [
        "{\"room_type\": [5, 3, 3, 4, 2, 1, 17, 17, 17, 17, 17, 15], \n",
        " \n",
        " \"boxes\": [[75.0, 33.0, 128.0, 45.0],    [134.0, 51.0, 181.0, 106.0], \n",
        "           [134.0, 145.0, 171.0, 202.0], [152.0, 112.0, 181.0, 139.0], \n",
        "           [93.0, 177.0, 128.0, 223.0],  [75.0, 51.0, 146.0, 171.0], \n",
        "           [133.0, 107.0, 144.0, 111.0], [81.0, 46.0, 121.0, 50.0], \n",
        "           [133.0, 140.0, 144.0, 144.0], [147.0, 115.0, 151.0, 125.0], \n",
        "           [116.0, 172.0, 126.0, 176.0], [74.0, 140.0, 86.0, 144.0]],\n",
        " \n",
        "  \"edges\": [[75.0, 33.0, 75.0, 45.0, 5, 0], [75.0, 45.0, 128.0, 45.0, 5, 1], \n",
        "            [128.0, 45.0, 128.0, 33.0, 5, 0], [128.0, 33.0, 75.0, 33.0, 5, 0], \n",
        "            [134.0, 51.0, 134.0, 106.0, 3, 0], [134.0, 106.0, 181.0, 106.0, 3, 1], \n",
        "            [181.0, 106.0, 181.0, 51.0, 3, 0], [181.0, 51.0, 134.0, 51.0, 3, 0], \n",
        "            [134.0, 145.0, 134.0, 202.0, 3, 0], [134.0, 202.0, 171.0, 202.0, 3, 0], \n",
        "            [171.0, 202.0, 171.0, 145.0, 3, 0], [171.0, 145.0, 134.0, 145.0, 3, 1], \n",
        "            [152.0, 112.0, 152.0, 139.0, 4, 1], [152.0, 139.0, 181.0, 139.0, 4, 0], \n",
        "            [181.0, 139.0, 181.0, 112.0, 4, 0], [181.0, 112.0, 152.0, 112.0, 4, 0], \n",
        "            [93.0, 177.0, 93.0, 223.0, 2, 0], [93.0, 223.0, 128.0, 223.0, 2, 0], \n",
        "            [128.0, 223.0, 128.0, 177.0, 2, 0], [128.0, 177.0, 93.0, 177.0, 2, 1], \n",
        "            [75.0, 51.0, 75.0, 139.0, 1, 0], [75.0, 139.0, 93.0, 139.0, 1, 0], \n",
        "            [93.0, 139.0, 93.0, 171.0, 1, 0], [93.0, 171.0, 128.0, 171.0, 1, 2], \n",
        "            [128.0, 171.0, 128.0, 139.0, 1, 0], [128.0, 139.0, 146.0, 139.0, 1, 3], \n",
        "            [146.0, 139.0, 146.0, 112.0, 1, 4], [146.0, 112.0, 128.0, 112.0, 1, 3], \n",
        "            [128.0, 112.0, 128.0, 51.0, 1, 0], [128.0, 51.0, 75.0, 51.0, 1, 5], \n",
        "            [133.0, 107.0, 133.0, 111.0, 17, 0], [133.0, 111.0, 144.0, 111.0, 17, 1], \n",
        "            [144.0, 111.0, 144.0, 107.0, 17, 0], [144.0, 107.0, 133.0, 107.0, 17, 3], \n",
        "            [81.0, 46.0, 81.0, 50.0, 17, 0], [81.0, 50.0, 121.0, 50.0, 17, 1], \n",
        "            [121.0, 50.0, 121.0, 46.0, 17, 0], [121.0, 46.0, 81.0, 46.0, 17, 5], \n",
        "            [133.0, 140.0, 133.0, 144.0, 17, 0], [133.0, 144.0, 144.0, 144.0, 17, 3], \n",
        "            [144.0, 144.0, 144.0, 140.0, 17, 0], [144.0, 140.0, 133.0, 140.0, 17, 1], \n",
        "            [147.0, 115.0, 147.0, 125.0, 17, 1], [147.0, 125.0, 151.0, 125.0, 17, 0], \n",
        "            [151.0, 125.0, 151.0, 115.0, 17, 4], [151.0, 115.0, 147.0, 115.0, 17, 0], \n",
        "            [116.0, 172.0, 116.0, 176.0, 17, 0], [116.0, 176.0, 126.0, 176.0, 17, 2], \n",
        "            [126.0, 176.0, 126.0, 172.0, 17, 0], [126.0, 172.0, 116.0, 172.0, 17, 1], \n",
        "            [74.0, 140.0, 74.0, 144.0, 15, 0], [74.0, 144.0, 86.0, 144.0, 15, 0], \n",
        "            [86.0, 144.0, 86.0, 140.0, 15, 0], [86.0, 140.0, 74.0, 140.0, 15, 1]], \n",
        " \n",
        "#  \"room_type\": [5, 3, 3, 4, 2, 1, 17, 17, 17, 17, 17, 15]\n",
        "              #  0, 1, 2, 3, 4, 5, 6,   7,  8,  9, 10, 11\n",
        " \"ed_rm\": [[0], [0, 5], [0], [0], \n",
        "           [1], [1, 5], [1], [1], \n",
        "           [2], [2], [2], [2, 5], \n",
        "           [3, 5], [3], [3], [3], \n",
        "           [4], [4], [4], [4, 5], \n",
        "           [5], [5], [5], [5, 4], [5], [5, 2], [5, 3], [5, 1], [5], [5, 0], \n",
        "           [6], [6, 5], [6], [6, 1], \n",
        "           [7], [7, 5], [7], [7, 0], \n",
        "           [8], [8, 2], [8], [8, 5], \n",
        "           [9, 5], [9], [9, 3], [9], \n",
        "           [10], [10, 4], [10], [10, 5], \n",
        "           [11], [11], [11], [11, 5]]}"
      ],
      "execution_count": null,
      "outputs": []
    },
    {
      "cell_type": "code",
      "metadata": {
        "id": "XqwIcIZiB8im"
      },
      "source": [
        "ed = [[75.0, 33.0, 75.0, 45.0, 5, 0], [75.0, 45.0, 128.0, 45.0, 5, 1], \n",
        "            [128.0, 45.0, 128.0, 33.0, 5, 0], [128.0, 33.0, 75.0, 33.0, 5, 0], \n",
        "            [134.0, 51.0, 134.0, 106.0, 3, 0], [134.0, 106.0, 181.0, 106.0, 3, 1], \n",
        "            [181.0, 106.0, 181.0, 51.0, 3, 0], [181.0, 51.0, 134.0, 51.0, 3, 0], \n",
        "            [134.0, 145.0, 134.0, 202.0, 3, 0], [134.0, 202.0, 171.0, 202.0, 3, 0], \n",
        "            [171.0, 202.0, 171.0, 145.0, 3, 0], [171.0, 145.0, 134.0, 145.0, 3, 1], \n",
        "            [152.0, 112.0, 152.0, 139.0, 4, 1], [152.0, 139.0, 181.0, 139.0, 4, 0], \n",
        "            [181.0, 139.0, 181.0, 112.0, 4, 0], [181.0, 112.0, 152.0, 112.0, 4, 0], \n",
        "            [93.0, 177.0, 93.0, 223.0, 2, 0], [93.0, 223.0, 128.0, 223.0, 2, 0], \n",
        "            [128.0, 223.0, 128.0, 177.0, 2, 0], [128.0, 177.0, 93.0, 177.0, 2, 1], \n",
        "            [75.0, 51.0, 75.0, 139.0, 1, 0], [75.0, 139.0, 93.0, 139.0, 1, 0], \n",
        "            [93.0, 139.0, 93.0, 171.0, 1, 0], [93.0, 171.0, 128.0, 171.0, 1, 2], \n",
        "            [128.0, 171.0, 128.0, 139.0, 1, 0], [128.0, 139.0, 146.0, 139.0, 1, 3], \n",
        "            [146.0, 139.0, 146.0, 112.0, 1, 4], [146.0, 112.0, 128.0, 112.0, 1, 3], \n",
        "            [128.0, 112.0, 128.0, 51.0, 1, 0], [128.0, 51.0, 75.0, 51.0, 1, 5], \n",
        "            [133.0, 107.0, 133.0, 111.0, 17, 0], [133.0, 111.0, 144.0, 111.0, 17, 1], \n",
        "            [144.0, 111.0, 144.0, 107.0, 17, 0], [144.0, 107.0, 133.0, 107.0, 17, 3], \n",
        "            [81.0, 46.0, 81.0, 50.0, 17, 0], [81.0, 50.0, 121.0, 50.0, 17, 1], \n",
        "            [121.0, 50.0, 121.0, 46.0, 17, 0], [121.0, 46.0, 81.0, 46.0, 17, 5], \n",
        "            [133.0, 140.0, 133.0, 144.0, 17, 0], [133.0, 144.0, 144.0, 144.0, 17, 3], \n",
        "            [144.0, 144.0, 144.0, 140.0, 17, 0], [144.0, 140.0, 133.0, 140.0, 17, 1], \n",
        "            [147.0, 115.0, 147.0, 125.0, 17, 1], [147.0, 125.0, 151.0, 125.0, 17, 0], \n",
        "            [151.0, 125.0, 151.0, 115.0, 17, 4], [151.0, 115.0, 147.0, 115.0, 17, 0], \n",
        "            [116.0, 172.0, 116.0, 176.0, 17, 0], [116.0, 176.0, 126.0, 176.0, 17, 2], \n",
        "            [126.0, 176.0, 126.0, 172.0, 17, 0], [126.0, 172.0, 116.0, 172.0, 17, 1], \n",
        "            [74.0, 140.0, 74.0, 144.0, 15, 0], [74.0, 144.0, 86.0, 144.0, 15, 0], \n",
        "            [86.0, 144.0, 86.0, 140.0, 15, 0], [86.0, 140.0, 74.0, 140.0, 15, 1]]"
      ],
      "execution_count": null,
      "outputs": []
    },
    {
      "cell_type": "code",
      "metadata": {
        "colab": {
          "base_uri": "https://localhost:8080/"
        },
        "id": "rqJa9ZJpB97f",
        "outputId": "29fa1aa5-8e4a-4dbe-922e-456603bba611"
      },
      "source": [
        "len(ed)"
      ],
      "execution_count": null,
      "outputs": [
        {
          "output_type": "execute_result",
          "data": {
            "text/plain": [
              "54"
            ]
          },
          "metadata": {
            "tags": []
          },
          "execution_count": 2
        }
      ]
    },
    {
      "cell_type": "code",
      "metadata": {
        "colab": {
          "base_uri": "https://localhost:8080/"
        },
        "id": "HSh2F1C42UUh",
        "outputId": "fff7c980-170c-46e0-ac18-5696b284c60e"
      },
      "source": [
        "import torch\n",
        "torch.tensor([32], dtype=torch.int)"
      ],
      "execution_count": null,
      "outputs": [
        {
          "output_type": "execute_result",
          "data": {
            "text/plain": [
              "tensor([32], dtype=torch.int32)"
            ]
          },
          "metadata": {
            "tags": []
          },
          "execution_count": 8
        }
      ]
    },
    {
      "cell_type": "code",
      "metadata": {
        "colab": {
          "base_uri": "https://localhost:8080/"
        },
        "id": "G6du3dq_B_ND",
        "outputId": "307c7147-3688-4fe8-e4e4-f87ecbc75b13"
      },
      "source": [
        "import numpy as np\n",
        "np.array(ed).shape"
      ],
      "execution_count": null,
      "outputs": [
        {
          "output_type": "execute_result",
          "data": {
            "text/plain": [
              "(54, 6)"
            ]
          },
          "metadata": {
            "tags": []
          },
          "execution_count": 6
        }
      ]
    },
    {
      "cell_type": "code",
      "metadata": {
        "id": "rE2QMfxnCA8f"
      },
      "source": [
        "ed_rm= [[0], [0, 5], [0], [0], [1], [1, 5], [1], [1], [2], [2], [2], [2, 5], [3, 5], \n",
        "           [3], [3], [3], [4], [4], [4], [4, 5], [5], [5], [5], [5, 4], [5], [5, 2], [5, 3], \n",
        "           [5, 1], [5], [5, 0], [6], [6, 5], [6], [6, 1], [7], [7, 5], [7], [7, 0], [8], [8, 2], \n",
        "           [8], [8, 5], [9, 5], [9], [9, 3], [9], [10], [10, 4], [10], [10, 5], [11], [11], \n",
        "           [11], [11, 5]]"
      ],
      "execution_count": null,
      "outputs": []
    },
    {
      "cell_type": "code",
      "metadata": {
        "colab": {
          "base_uri": "https://localhost:8080/"
        },
        "id": "RLFpKz9dCQ50",
        "outputId": "ecedcc0f-a925-4a91-fa97-4a88a4c85292"
      },
      "source": [
        "import numpy as np\n",
        "np.array(ed_rm).shape"
      ],
      "execution_count": null,
      "outputs": [
        {
          "output_type": "stream",
          "text": [
            "/usr/local/lib/python3.7/dist-packages/ipykernel_launcher.py:2: VisibleDeprecationWarning: Creating an ndarray from ragged nested sequences (which is a list-or-tuple of lists-or-tuples-or ndarrays with different lengths or shapes) is deprecated. If you meant to do this, you must specify 'dtype=object' when creating the ndarray\n",
            "  \n"
          ],
          "name": "stderr"
        },
        {
          "output_type": "execute_result",
          "data": {
            "text/plain": [
              "(54,)"
            ]
          },
          "metadata": {
            "tags": []
          },
          "execution_count": 8
        }
      ]
    },
    {
      "cell_type": "code",
      "metadata": {
        "id": "dI038ndICSWn"
      },
      "source": [
        ""
      ],
      "execution_count": null,
      "outputs": []
    }
  ]
}